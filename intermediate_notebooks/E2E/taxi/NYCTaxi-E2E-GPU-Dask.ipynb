{
 "cells": [
  {
   "cell_type": "markdown",
   "metadata": {},
   "source": [
    "# Predicting NYC Taxi Fares with RAPIDS"
   ]
  },
  {
   "cell_type": "markdown",
   "metadata": {},
   "source": [
    "RAPIDS is a suite of GPU accelerated data science libraries with APIs that should be familiar to users of Pandas, Dask, and Scikitlearn.\n",
    "\n",
    "This notebook focuses on showing how to use cuDF with Dask & XGBoost to scale GPU DataFrame ETL-style operations & model training out to multiple GPUs on mutliple nodes as part of Google Cloud Dataproc.\n",
    "\n",
    "Anaconda has graciously made some of the NYC Taxi dataset available in a public Google Cloud Storage bucket. We'll use our Dataproc Cluster of GPUs to process it and train a model that predicts the fare amount."
   ]
  },
  {
   "cell_type": "code",
   "execution_count": 1,
   "metadata": {},
   "outputs": [
    {
     "data": {
      "text/html": [
       "<table style=\"border: 2px solid white;\">\n",
       "<tr>\n",
       "<td style=\"vertical-align: top; border: 0px solid white\">\n",
       "<h3 style=\"text-align: left;\">Client</h3>\n",
       "<ul style=\"text-align: left; list-style: none; margin: 0; padding: 0;\">\n",
       "  <li><b>Scheduler: </b>tcp://127.0.0.1:36469</li>\n",
       "  <li><b>Dashboard: </b><a href='http://127.0.0.1:8787/status' target='_blank'>http://127.0.0.1:8787/status</a>\n",
       "</ul>\n",
       "</td>\n",
       "<td style=\"vertical-align: top; border: 0px solid white\">\n",
       "<h3 style=\"text-align: left;\">Cluster</h3>\n",
       "<ul style=\"text-align: left; list-style:none; margin: 0; padding: 0;\">\n",
       "  <li><b>Workers: </b>2</li>\n",
       "  <li><b>Cores: </b>2</li>\n",
       "  <li><b>Memory: </b>100.01 GB</li>\n",
       "</ul>\n",
       "</td>\n",
       "</tr>\n",
       "</table>"
      ],
      "text/plain": [
       "<Client: 'tcp://127.0.0.1:36469' processes=2 threads=2, memory=100.01 GB>"
      ]
     },
     "execution_count": 1,
     "metadata": {},
     "output_type": "execute_result"
    }
   ],
   "source": [
    "import numpy as np\n",
    "import pandas as pd\n",
    "import math\n",
    "import numba, socket, time\n",
    "import cudf\n",
    "import dask, dask_cudf\n",
    "import xgboost as xgb\n",
    "import cuspatial\n",
    "from dask.distributed import Client, wait\n",
    "from dask_cuda import LocalCUDACluster\n",
    "\n",
    "# connect to the Dask cluster created at Dataproc startup time\n",
    "cluster = LocalCUDACluster()\n",
    "client = Client(cluster)\n",
    "# forces workers to restart. useful to ensure GPU memory is clear\n",
    "client.restart()\n",
    "client"
   ]
  },
  {
   "cell_type": "markdown",
   "metadata": {},
   "source": [
    "# Inspecting the Data\n",
    "\n",
    "Now that we have a cluster of GPU workers, we'll use [dask-cudf](https://github.com/rapidsai/dask-cudf/) to load and parse a bunch of CSV files into a distributed DataFrame. Yello taxi trip records can be downloaded [here](https://www1.nyc.gov/site/tlc/about/tlc-trip-record-data.page)."
   ]
  },
  {
   "cell_type": "code",
   "execution_count": 2,
   "metadata": {},
   "outputs": [
    {
     "data": {
      "text/html": [
       "<div>\n",
       "<style scoped>\n",
       "    .dataframe tbody tr th:only-of-type {\n",
       "        vertical-align: middle;\n",
       "    }\n",
       "\n",
       "    .dataframe tbody tr th {\n",
       "        vertical-align: top;\n",
       "    }\n",
       "\n",
       "    .dataframe thead th {\n",
       "        text-align: right;\n",
       "    }\n",
       "</style>\n",
       "<table border=\"1\" class=\"dataframe\">\n",
       "  <thead>\n",
       "    <tr style=\"text-align: right;\">\n",
       "      <th></th>\n",
       "      <th>vendor_id</th>\n",
       "      <th>pickup_datetime</th>\n",
       "      <th>dropoff_datetime</th>\n",
       "      <th>passenger_count</th>\n",
       "      <th>trip_distance</th>\n",
       "      <th>pickup_longitude</th>\n",
       "      <th>pickup_latitude</th>\n",
       "      <th>rate_code</th>\n",
       "      <th>store_and_fwd_flag</th>\n",
       "      <th>dropoff_longitude</th>\n",
       "      <th>dropoff_latitude</th>\n",
       "      <th>payment_type</th>\n",
       "      <th>fare_amount</th>\n",
       "      <th>surcharge</th>\n",
       "      <th>mta_tax</th>\n",
       "      <th>tip_amount</th>\n",
       "      <th>tolls_amount</th>\n",
       "      <th>total_amount</th>\n",
       "    </tr>\n",
       "  </thead>\n",
       "  <tbody>\n",
       "    <tr>\n",
       "      <th>0</th>\n",
       "      <td>CMT</td>\n",
       "      <td>2014-01-09 20:45:25</td>\n",
       "      <td>2014-01-09 20:52:31</td>\n",
       "      <td>1</td>\n",
       "      <td>0.7</td>\n",
       "      <td>-73.994770</td>\n",
       "      <td>40.736828</td>\n",
       "      <td>1</td>\n",
       "      <td>N</td>\n",
       "      <td>-73.982227</td>\n",
       "      <td>40.731790</td>\n",
       "      <td>CRD</td>\n",
       "      <td>6.5</td>\n",
       "      <td>0.5</td>\n",
       "      <td>0.5</td>\n",
       "      <td>1.40</td>\n",
       "      <td>0.0</td>\n",
       "      <td>8.90</td>\n",
       "    </tr>\n",
       "    <tr>\n",
       "      <th>1</th>\n",
       "      <td>CMT</td>\n",
       "      <td>2014-01-09 20:46:12</td>\n",
       "      <td>2014-01-09 20:55:12</td>\n",
       "      <td>1</td>\n",
       "      <td>1.4</td>\n",
       "      <td>-73.982392</td>\n",
       "      <td>40.773382</td>\n",
       "      <td>1</td>\n",
       "      <td>N</td>\n",
       "      <td>-73.960449</td>\n",
       "      <td>40.763995</td>\n",
       "      <td>CRD</td>\n",
       "      <td>8.5</td>\n",
       "      <td>0.5</td>\n",
       "      <td>0.5</td>\n",
       "      <td>1.90</td>\n",
       "      <td>0.0</td>\n",
       "      <td>11.40</td>\n",
       "    </tr>\n",
       "    <tr>\n",
       "      <th>2</th>\n",
       "      <td>CMT</td>\n",
       "      <td>2014-01-09 20:44:47</td>\n",
       "      <td>2014-01-09 20:59:46</td>\n",
       "      <td>2</td>\n",
       "      <td>2.3</td>\n",
       "      <td>-73.988570</td>\n",
       "      <td>40.739406</td>\n",
       "      <td>1</td>\n",
       "      <td>N</td>\n",
       "      <td>-73.986626</td>\n",
       "      <td>40.765217</td>\n",
       "      <td>CRD</td>\n",
       "      <td>11.5</td>\n",
       "      <td>0.5</td>\n",
       "      <td>0.5</td>\n",
       "      <td>1.50</td>\n",
       "      <td>0.0</td>\n",
       "      <td>14.00</td>\n",
       "    </tr>\n",
       "    <tr>\n",
       "      <th>3</th>\n",
       "      <td>CMT</td>\n",
       "      <td>2014-01-09 20:44:57</td>\n",
       "      <td>2014-01-09 20:51:40</td>\n",
       "      <td>1</td>\n",
       "      <td>1.7</td>\n",
       "      <td>-73.960213</td>\n",
       "      <td>40.770464</td>\n",
       "      <td>1</td>\n",
       "      <td>N</td>\n",
       "      <td>-73.979863</td>\n",
       "      <td>40.777050</td>\n",
       "      <td>CRD</td>\n",
       "      <td>7.5</td>\n",
       "      <td>0.5</td>\n",
       "      <td>0.5</td>\n",
       "      <td>1.70</td>\n",
       "      <td>0.0</td>\n",
       "      <td>10.20</td>\n",
       "    </tr>\n",
       "    <tr>\n",
       "      <th>4</th>\n",
       "      <td>CMT</td>\n",
       "      <td>2014-01-09 20:47:09</td>\n",
       "      <td>2014-01-09 20:53:32</td>\n",
       "      <td>1</td>\n",
       "      <td>0.9</td>\n",
       "      <td>-73.995371</td>\n",
       "      <td>40.717248</td>\n",
       "      <td>1</td>\n",
       "      <td>N</td>\n",
       "      <td>-73.984367</td>\n",
       "      <td>40.720524</td>\n",
       "      <td>CRD</td>\n",
       "      <td>6.0</td>\n",
       "      <td>0.5</td>\n",
       "      <td>0.5</td>\n",
       "      <td>1.75</td>\n",
       "      <td>0.0</td>\n",
       "      <td>8.75</td>\n",
       "    </tr>\n",
       "  </tbody>\n",
       "</table>\n",
       "</div>"
      ],
      "text/plain": [
       "  vendor_id      pickup_datetime     dropoff_datetime   passenger_count  \\\n",
       "0       CMT  2014-01-09 20:45:25  2014-01-09 20:52:31                 1   \n",
       "1       CMT  2014-01-09 20:46:12  2014-01-09 20:55:12                 1   \n",
       "2       CMT  2014-01-09 20:44:47  2014-01-09 20:59:46                 2   \n",
       "3       CMT  2014-01-09 20:44:57  2014-01-09 20:51:40                 1   \n",
       "4       CMT  2014-01-09 20:47:09  2014-01-09 20:53:32                 1   \n",
       "\n",
       "    trip_distance   pickup_longitude   pickup_latitude   rate_code  \\\n",
       "0             0.7         -73.994770         40.736828           1   \n",
       "1             1.4         -73.982392         40.773382           1   \n",
       "2             2.3         -73.988570         40.739406           1   \n",
       "3             1.7         -73.960213         40.770464           1   \n",
       "4             0.9         -73.995371         40.717248           1   \n",
       "\n",
       "   store_and_fwd_flag   dropoff_longitude   dropoff_latitude  payment_type  \\\n",
       "0                   N          -73.982227          40.731790           CRD   \n",
       "1                   N          -73.960449          40.763995           CRD   \n",
       "2                   N          -73.986626          40.765217           CRD   \n",
       "3                   N          -73.979863          40.777050           CRD   \n",
       "4                   N          -73.984367          40.720524           CRD   \n",
       "\n",
       "    fare_amount   surcharge   mta_tax   tip_amount   tolls_amount  \\\n",
       "0           6.5         0.5       0.5         1.40            0.0   \n",
       "1           8.5         0.5       0.5         1.90            0.0   \n",
       "2          11.5         0.5       0.5         1.50            0.0   \n",
       "3           7.5         0.5       0.5         1.70            0.0   \n",
       "4           6.0         0.5       0.5         1.75            0.0   \n",
       "\n",
       "    total_amount  \n",
       "0           8.90  \n",
       "1          11.40  \n",
       "2          14.00  \n",
       "3          10.20  \n",
       "4           8.75  "
      ]
     },
     "execution_count": 2,
     "metadata": {},
     "output_type": "execute_result"
    }
   ],
   "source": [
    "'''if you get 'ModuleNotFoundError: No module named 'gcsfs', run `!pip install gcsfs` \n",
    "'''\n",
    "base_path = 'gcs://anaconda-public-data/nyc-taxi/csv/'\n",
    "\n",
    "df_2014 = dask_cudf.read_csv(base_path+'2014/yellow_*.csv')\n",
    "df_2014.head()"
   ]
  },
  {
   "cell_type": "markdown",
   "metadata": {},
   "source": [
    "# Data Cleanup\n",
    "\n",
    "As usual, the data needs to be massaged a bit before we can start adding features that are useful to an ML model.\n",
    "\n",
    "For example, in the 2014 taxi CSV files, there are `pickup_datetime` and `dropoff_datetime` columns. The 2015 CSVs have `tpep_pickup_datetime` and `tpep_dropoff_datetime`, which are the same columns. One year has `rate_code`, and another `RateCodeID`.\n",
    "\n",
    "Also, some CSV files have column names with extraneous spaces in them.\n",
    "\n",
    "Worst of all, starting in the July 2016 CSVs, pickup & dropoff latitude and longitude data were replaced by location IDs, making the second half of the year useless to us.\n",
    "\n",
    "We'll do a little string manipulation, column renaming, and concatenating of DataFrames to sidestep the problems."
   ]
  },
  {
   "cell_type": "code",
   "execution_count": 4,
   "metadata": {},
   "outputs": [],
   "source": [
    "# replace extraneous spaces in column names\n",
    "def clean(ddf):\n",
    "    tmp = {col:col.strip().lower() for col in list(ddf.columns)}\n",
    "    ddf = ddf.rename(columns=tmp)\n",
    "\n",
    "    ddf = ddf.rename(columns={\n",
    "        'tpep_pickup_datetime': 'pickup_datetime',\n",
    "        'tpep_dropoff_datetime': 'dropoff_datetime',\n",
    "        'ratecodeid': 'rate_code'\n",
    "    })\n",
    "\n",
    "    must_haves = {\n",
    "     'pickup_datetime': 'datetime64[s]',\n",
    "     'dropoff_datetime': 'datetime64[s]',\n",
    "     'passenger_count': 'int32',\n",
    "     'trip_distance': 'float32',\n",
    "     'pickup_longitude': 'float32',\n",
    "     'pickup_latitude': 'float32',\n",
    "     'rate_code': 'int32',\n",
    "     'dropoff_longitude': 'float32',\n",
    "     'dropoff_latitude': 'float32',\n",
    "     'fare_amount': 'float32'\n",
    "    }\n",
    "    \n",
    "    ddf['pickup_datetime'] = ddf['pickup_datetime'].astype('datetime64[ms]')\n",
    "    ddf['dropoff_datetime'] = ddf['dropoff_datetime'].astype('datetime64[ms]')\n",
    "\n",
    "    for col in ddf.columns:\n",
    "        if col not in must_haves:\n",
    "            ddf = ddf.drop(columns=col)\n",
    "            continue\n",
    "        # if column was read as a string, recast as float\n",
    "        if ddf[col].dtype == 'object':\n",
    "            ddf[col] = ddf[col].str.fillna('-1')\n",
    "            ddf[col] = ddf[col].astype('float32')\n",
    "        else:\n",
    "            # downcast from 64bit to 32bit types\n",
    "            # Tesla T4 are faster on 32bit ops\n",
    "            if 'int' in str(ddf[col].dtype):\n",
    "                ddf[col] = ddf[col].astype('int32')\n",
    "            if 'float' in str(ddf[col].dtype):\n",
    "                ddf[col] = ddf[col].astype('float32')\n",
    "            ddf[col] = ddf[col].fillna(-1)\n",
    "    \n",
    "    return ddf"
   ]
  },
  {
   "cell_type": "code",
   "execution_count": 5,
   "metadata": {},
   "outputs": [],
   "source": [
    "df_2014 = clean(df_2014)"
   ]
  },
  {
   "cell_type": "markdown",
   "metadata": {},
   "source": [
    "We still have 2015 and the first half of 2016's data to read and clean. Let's increase our dataset."
   ]
  },
  {
   "cell_type": "code",
   "execution_count": 6,
   "metadata": {},
   "outputs": [],
   "source": [
    "df_2015 = clean(dask_cudf.read_csv(base_path+'2015/yellow_*.csv'))"
   ]
  },
  {
   "cell_type": "markdown",
   "metadata": {},
   "source": [
    "# Handling 2016's Mid-Year Schema Change"
   ]
  },
  {
   "cell_type": "markdown",
   "metadata": {},
   "source": [
    "In 2016, only January - June CSVs have the columns we need. If we try to read base_path+2016/yellow_*.csv, Dask will not appreciate having differing schemas in the same DataFrame.\n",
    "\n",
    "Instead, we'll need to create a list of the valid months and read them independently."
   ]
  },
  {
   "cell_type": "code",
   "execution_count": 7,
   "metadata": {},
   "outputs": [],
   "source": [
    "base_path = 'gcs://anaconda-public-data/nyc-taxi/csv/'\n",
    "months = [str(x).rjust(2, '0') for x in range(1, 7)]\n",
    "valid_files = [base_path+'2016/yellow_tripdata_2016-'+month+'.csv' for month in months]"
   ]
  },
  {
   "cell_type": "code",
   "execution_count": 8,
   "metadata": {},
   "outputs": [],
   "source": [
    "#read & clean 2016 data and concat all DFs\n",
    "df_2016 = clean(dask_cudf.read_csv(valid_files))\n",
    "\n",
    "#concatenate multiple DataFrames into one bigger one\n",
    "taxi_df = dask.dataframe.multi.concat([df_2014, df_2015, df_2016])"
   ]
  },
  {
   "cell_type": "code",
   "execution_count": 9,
   "metadata": {},
   "outputs": [],
   "source": [
    "# apply a list of filter conditions to throw out records with missing or outlier values\n",
    "query_frags = [\n",
    "    'fare_amount > 1 and fare_amount < 500',\n",
    "    'passenger_count > 0 and passenger_count < 6',\n",
    "    'pickup_longitude > -75 and pickup_longitude < -73',\n",
    "    'dropoff_longitude > -75 and dropoff_longitude < -73',\n",
    "    'pickup_latitude > 40 and pickup_latitude < 42',\n",
    "    'dropoff_latitude > 40 and dropoff_latitude < 42',\n",
    "    'trip_distance > 0 and trip_distance < 500',\n",
    "    'not (trip_distance > 100 and fare_amount < 50)',\n",
    "    'not (trip_distance < 5 and fare_amount > 300)',\n",
    "    'not dropoff_datetime <= pickup_datetime'\n",
    "]\n",
    "taxi_df = taxi_df.query(' and '.join(query_frags))"
   ]
  },
  {
   "cell_type": "code",
   "execution_count": null,
   "metadata": {},
   "outputs": [],
   "source": [
    "# reset_index and drop index column\n",
    "taxi_df = taxi_df.reset_index(drop=True)\n",
    "taxi_df.head()"
   ]
  },
  {
   "cell_type": "markdown",
   "metadata": {},
   "source": [
    "# Adding Interesting Features\n",
    "\n",
    "Dask & cuDF provide standard DataFrame operations, but also let you run \"user defined functions\" on the underlying data.\n",
    "\n",
    "cuDF's [apply_rows](https://rapidsai.github.io/projects/cudf/en/0.6.0/api.html#cudf.dataframe.DataFrame.apply_rows) operation is similar to Pandas's [DataFrame.apply](https://pandas.pydata.org/pandas-docs/stable/reference/api/pandas.DataFrame.apply.html), except that for cuDF, custom Python code is [JIT compiled by numba](https://numba.pydata.org/numba-doc/dev/cuda/kernels.html) into GPU kernels.\n",
    "\n",
    "We'll use a Haversine Distance calculation to find total trip distance, and extract additional useful variables from the datetime fields."
   ]
  },
  {
   "cell_type": "code",
   "execution_count": 11,
   "metadata": {},
   "outputs": [],
   "source": [
    "## add features\n",
    "\n",
    "taxi_df['hour'] = taxi_df['pickup_datetime'].dt.hour\n",
    "taxi_df['year'] = taxi_df['pickup_datetime'].dt.year\n",
    "taxi_df['month'] = taxi_df['pickup_datetime'].dt.month\n",
    "taxi_df['day'] = taxi_df['pickup_datetime'].dt.day\n",
    "taxi_df['day_of_week'] = taxi_df['pickup_datetime'].dt.weekday\n",
    "taxi_df['is_weekend'] = (taxi_df['day_of_week']>=5).astype(np.int32)\n",
    "\n",
    "#calculate the time difference between dropoff and pickup.\n",
    "taxi_df['diff'] = taxi_df['dropoff_datetime'].astype('int64') - taxi_df['pickup_datetime'].astype('int64')\n",
    "taxi_df['diff']=(taxi_df['diff']/1000).astype('int64')\n",
    "\n",
    "taxi_df['pickup_latitude_r'] = taxi_df['pickup_latitude']//.01*.01\n",
    "taxi_df['pickup_longitude_r'] = taxi_df['pickup_longitude']//.01*.01\n",
    "taxi_df['dropoff_latitude_r'] = taxi_df['dropoff_latitude']//.01*.01\n",
    "taxi_df['dropoff_longitude_r'] = taxi_df['dropoff_longitude']//.01*.01\n",
    "\n",
    "taxi_df = taxi_df.drop('pickup_datetime', axis=1)\n",
    "taxi_df = taxi_df.drop('dropoff_datetime', axis=1)"
   ]
  },
  {
   "cell_type": "code",
   "execution_count": null,
   "metadata": {},
   "outputs": [],
   "source": [
    "def haversine_dist(df):\n",
    "    h_distance = cuspatial.haversine_distance(df['pickup_longitude'], df['pickup_latitude'], df['dropoff_longitude'], df['dropoff_latitude'])\n",
    "    df['h_distance']= h_distance\n",
    "    df['h_distance']= df['h_distance'].astype('float32')\n",
    "    return df\n",
    "\n",
    "taxi_df = taxi_df.map_partitions(haversine_dist)\n",
    "taxi_df.head()"
   ]
  },
  {
   "cell_type": "markdown",
   "metadata": {},
   "source": [
    "## Some EDA"
   ]
  },
  {
   "cell_type": "code",
   "execution_count": 25,
   "metadata": {},
   "outputs": [
    {
     "data": {
      "text/plain": [
       "1     10068463\n",
       "2       206381\n",
       "3        15132\n",
       "5        13765\n",
       "4         4422\n",
       "99          69\n",
       "6           35\n",
       "Name: rate_code, dtype: int64"
      ]
     },
     "execution_count": 25,
     "metadata": {},
     "output_type": "execute_result"
    }
   ],
   "source": [
    "'''RateCodeID The final rate code in effect at the end of the trip.\n",
    "1= Standard rate\n",
    "2=JFK\n",
    "3=Newark\n",
    "4=Nassau or Westchester\n",
    "5=Negotiated fare\n",
    "6=Group ride\n",
    "99= Unknown\n",
    "'''\n",
    "taxi_df['rate_code'].value_counts().compute()"
   ]
  },
  {
   "cell_type": "code",
   "execution_count": 24,
   "metadata": {},
   "outputs": [
    {
     "data": {
      "text/plain": [
       "rate_code\n",
       "1     11.425292\n",
       "2     51.988415\n",
       "3     66.067076\n",
       "4     65.253844\n",
       "5     79.472512\n",
       "6      6.114857\n",
       "99    18.159420\n",
       "Name: fare_amount, dtype: float64"
      ]
     },
     "execution_count": 24,
     "metadata": {},
     "output_type": "execute_result"
    }
   ],
   "source": [
    "#mean fare_amount per rate_code\n",
    "taxi_df.groupby('rate_code').fare_amount.mean().compute()"
   ]
  },
  {
   "cell_type": "code",
   "execution_count": 15,
   "metadata": {},
   "outputs": [
    {
     "data": {
      "text/plain": [
       "221.0"
      ]
     },
     "execution_count": 15,
     "metadata": {},
     "output_type": "execute_result"
    }
   ],
   "source": [
    "taxi_df['trip_distance'].compute().max()"
   ]
  },
  {
   "cell_type": "markdown",
   "metadata": {},
   "source": [
    "# Pick a Training Set\n",
    "\n",
    "Let's imagine you're making a trip to New York on the 25th and want to build a model to predict what fare prices will be like the last few days of the month based on the first part of the month. We'll use a query expression to identify the `day` of the month to use to divide the data into train and test sets.\n",
    "\n",
    "The wall-time below represents how long it takes your GPU cluster to load data from the Google Cloud Storage bucket and the ETL portion of the workflow."
   ]
  },
  {
   "cell_type": "code",
   "execution_count": 16,
   "metadata": {},
   "outputs": [],
   "source": [
    "# this is the original data partition for train and test sets.\n",
    "X_train = taxi_df.query('day < 25').persist()\n",
    "\n",
    "# create a Y_train ddf with just the target variable\n",
    "Y_train = X_train[['fare_amount']].persist()\n",
    "# drop the target variable from the training ddf\n",
    "X_train = X_train[X_train.columns.difference(['fare_amount'])]\n",
    "\n",
    "# this wont return until all data is in GPU memory\n",
    "done = wait([X_train, Y_train])"
   ]
  },
  {
   "cell_type": "code",
   "execution_count": 17,
   "metadata": {},
   "outputs": [
    {
     "data": {
      "text/plain": [
       "(dask_cudf.core.DataFrame, dask_cudf.core.DataFrame)"
      ]
     },
     "execution_count": 17,
     "metadata": {},
     "output_type": "execute_result"
    }
   ],
   "source": [
    "type(X_train), type(Y_train)"
   ]
  },
  {
   "cell_type": "code",
   "execution_count": null,
   "metadata": {},
   "outputs": [],
   "source": [
    "#print(X_train.shape)\n",
    "print(len(X_train))"
   ]
  },
  {
   "cell_type": "markdown",
   "metadata": {},
   "source": [
    "Save training data to csv file to show how large actually training data after feature engineering is. Here all yellow taxi data after feature enigneering show 42GB. Original dataset size is 58GB. "
   ]
  },
  {
   "cell_type": "markdown",
   "metadata": {},
   "source": [
    "# Train the XGBoost Regression Model\n",
    "\n",
    "The wall time output below indicates how long it took your GPU cluster to train an XGBoost model over the training set."
   ]
  },
  {
   "cell_type": "code",
   "execution_count": 19,
   "metadata": {},
   "outputs": [],
   "source": [
    "dtrain = xgb.dask.DaskDMatrix(client, X_train, Y_train)"
   ]
  },
  {
   "cell_type": "code",
   "execution_count": 20,
   "metadata": {},
   "outputs": [
    {
     "name": "stdout",
     "output_type": "stream",
     "text": [
      "CPU times: user 339 ms, sys: 66.4 ms, total: 405 ms\n",
      "Wall time: 6.32 s\n"
     ]
    }
   ],
   "source": [
    "%%time\n",
    "\n",
    "trained_model = xgb.dask.train(client,\n",
    "                        {\n",
    "                         'learning_rate': 0.3,\n",
    "                          'max_depth': 8,\n",
    "                          'objective': 'reg:squarederror',\n",
    "                          'subsample': 0.6,\n",
    "                          'gamma': 1,\n",
    "                          'silent': True,\n",
    "                          'verbose_eval': True,\n",
    "                          'tree_method':'gpu_hist',\n",
    "                          'n_gpus': 1\n",
    "                        },\n",
    "                        dtrain,\n",
    "                        num_boost_round=100, evals=[(dtrain, 'train')])\n",
    "\n",
    "#prediction = xgb.dask.predict(client, trained_model['booster'], dtrain)"
   ]
  },
  {
   "cell_type": "code",
   "execution_count": 21,
   "metadata": {},
   "outputs": [
    {
     "name": "stdout",
     "output_type": "stream",
     "text": [
      "[16:05:03] WARNING: /conda/conda-bld/xgboost_1585068386125/work/include/xgboost/generic_parameters.h:36: \n",
      "n_gpus: \n",
      "\tDeprecated. Single process multi-GPU training is no longer supported.\n",
      "\tPlease switch to distributed training with one process per GPU.\n",
      "\tThis can be done using Dask or Spark.  See documentation for details.\n"
     ]
    },
    {
     "data": {
      "image/png": "[encoded data removed]",
      "text/plain": [
       "<Figure size 432x288 with 1 Axes>"
      ]
     },
     "metadata": {
      "needs_background": "light"
     },
     "output_type": "display_data"
    }
   ],
   "source": [
    "%matplotlib inline\n",
    "import matplotlib.pyplot as plt\n",
    "\n",
    "ax = xgb.plot_importance(trained_model['booster'], height=0.8, max_num_features=10, importance_type=\"gain\")\n",
    "ax.grid(False, axis=\"y\")\n",
    "ax.set_title('Estimated feature importance')\n",
    "ax.set_xlabel('importance')\n",
    "plt.show()"
   ]
  },
  {
   "cell_type": "markdown",
   "metadata": {},
   "source": [
    "# How Good is Our Model?\n",
    "\n",
    "Now that we have a trained model, we need to test it with the 25% of records we held out.\n",
    "\n",
    "Based on the filtering conditions applied to this dataset, many of the DataFrame partitions will wind up having 0 rows.\n",
    "\n",
    "This is a problem for XGBoost which doesn't know what to do with 0 length arrays. We'll repartition the data. "
   ]
  },
  {
   "cell_type": "code",
   "execution_count": 27,
   "metadata": {},
   "outputs": [],
   "source": [
    "def drop_empty_partitions(df):\n",
    "    lengths = df.map_partitions(len).compute()\n",
    "    nonempty = [length > 0 for length in lengths]\n",
    "    return df.partitions[nonempty]"
   ]
  },
  {
   "cell_type": "code",
   "execution_count": null,
   "metadata": {},
   "outputs": [],
   "source": [
    "X_test = taxi_df.query('day >= 25').persist()\n",
    "X_test = drop_empty_partitions(X_test)\n",
    "\n",
    "# Create Y_test with just the fare amount\n",
    "Y_test = X_test[['fare_amount']].persist()\n",
    "\n",
    "# Drop the fare amount from X_test\n",
    "X_test = X_test[X_test.columns.difference(['fare_amount'])]\n",
    "\n",
    "# this wont return until all data is in GPU memory\n",
    "done = wait([X_test, Y_test])\n",
    "\n",
    "# display test set size\n",
    "len(X_test)"
   ]
  },
  {
   "cell_type": "code",
   "execution_count": null,
   "metadata": {},
   "outputs": [],
   "source": [
    "X_test.head()"
   ]
  },
  {
   "cell_type": "markdown",
   "metadata": {},
   "source": [
    "## Calculate Prediction"
   ]
  },
  {
   "cell_type": "code",
   "execution_count": 30,
   "metadata": {},
   "outputs": [
    {
     "name": "stdout",
     "output_type": "stream",
     "text": [
      "[16:08:23] WARNING: /conda/conda-bld/xgboost_1585068386125/work/include/xgboost/generic_parameters.h:36: \n",
      "n_gpus: \n",
      "\tDeprecated. Single process multi-GPU training is no longer supported.\n",
      "\tPlease switch to distributed training with one process per GPU.\n",
      "\tThis can be done using Dask or Spark.  See documentation for details.\n"
     ]
    },
    {
     "data": {
      "text/plain": [
       "0     8.727488\n",
       "1    36.659031\n",
       "2     8.489439\n",
       "3     4.085510\n",
       "4     8.614785\n",
       "Name: prediction, dtype: float32"
      ]
     },
     "execution_count": 30,
     "metadata": {},
     "output_type": "execute_result"
    }
   ],
   "source": [
    "# generate predictions on the test set\n",
    "'''feed X_test as a dask.dataframe'''\n",
    "prediction = xgb.dask.predict(client, trained_model['booster'], X_test).persist()\n",
    "\n",
    "wait(prediction)\n",
    "\n",
    "prediction.head()"
   ]
  },
  {
   "cell_type": "code",
   "execution_count": 31,
   "metadata": {},
   "outputs": [
    {
     "data": {
      "text/plain": [
       "(dask.dataframe.core.Series,\n",
       " dask_cudf.core.Series,\n",
       " dask_cudf.core.DataFrame,\n",
       " dask_cudf.core.DataFrame)"
      ]
     },
     "execution_count": 31,
     "metadata": {},
     "output_type": "execute_result"
    }
   ],
   "source": [
    "type(prediction), type(Y_test['fare_amount']), type(X_test), type(Y_test)"
   ]
  },
  {
   "cell_type": "code",
   "execution_count": 37,
   "metadata": {},
   "outputs": [],
   "source": [
    "pred = dask_cudf.from_dask_dataframe(prediction).reset_index(drop=True)\n",
    "true = Y_test['fare_amount'].reset_index(drop=True)\n",
    "\n",
    "type(true), type(pred)"
   ]
  },
  {
   "cell_type": "code",
   "execution_count": 39,
   "metadata": {},
   "outputs": [
    {
     "data": {
      "text/plain": [
       "0     8.727488\n",
       "1    36.659031\n",
       "2     8.489439\n",
       "3     4.085510\n",
       "4     8.614785\n",
       "Name: prediction, dtype: float32"
      ]
     },
     "execution_count": 39,
     "metadata": {},
     "output_type": "execute_result"
    }
   ],
   "source": [
    "pred.head()"
   ]
  },
  {
   "cell_type": "code",
   "execution_count": 40,
   "metadata": {},
   "outputs": [
    {
     "data": {
      "text/plain": [
       "0     9.0\n",
       "1    41.0\n",
       "2     9.0\n",
       "3     4.5\n",
       "4     9.0\n",
       "Name: fare_amount, dtype: float32"
      ]
     },
     "execution_count": 40,
     "metadata": {},
     "output_type": "execute_result"
    }
   ],
   "source": [
    "true.head()"
   ]
  },
  {
   "cell_type": "code",
   "execution_count": 41,
   "metadata": {},
   "outputs": [
    {
     "data": {
      "text/plain": [
       "1.8316325556822064"
      ]
     },
     "execution_count": 41,
     "metadata": {},
     "output_type": "execute_result"
    }
   ],
   "source": [
    "# Calculate RMSE\n",
    "squared_error = ((pred-true)**2)\n",
    "\n",
    "# compute the actual RMSE over the full test set\n",
    "math.sqrt(squared_error.mean().compute())"
   ]
  },
  {
   "cell_type": "markdown",
   "metadata": {},
   "source": [
    "## SAVE THE TRAINED MODEL"
   ]
  },
  {
   "cell_type": "code",
   "execution_count": 42,
   "metadata": {},
   "outputs": [
    {
     "name": "stdout",
     "output_type": "stream",
     "text": [
      "Training evaluation history: {'train': {'rmse': [11.008659, 7.78223, 5.546541, 4.007521, 2.963222, 2.278282, 1.840769, 1.577782, 1.414515, 1.32522, 1.270139, 1.235589, 1.209107, 1.198328, 1.188925, 1.180404, 1.155535, 1.151814, 1.148317, 1.146876, 1.135189, 1.133092, 1.130399, 1.128276, 1.126204, 1.123985, 1.122176, 1.120453, 1.116218, 1.112577, 1.111694, 1.109189, 1.105599, 1.100245, 1.090255, 1.087458, 1.08241, 1.077816, 1.073916, 1.06865, 1.064656, 1.061737, 1.06102, 1.049384, 1.047984, 1.046642, 1.044486, 1.042245, 1.040679, 1.039056, 1.037641, 1.031148, 1.026435, 1.02419, 1.019882, 1.017178, 1.013716, 1.012466, 1.010702, 1.008888, 1.008329, 1.007045, 1.005936, 1.004772, 1.003791, 1.002698, 1.000612, 0.994151, 0.984688, 0.977645, 0.970883, 0.965919, 0.965048, 0.961665, 0.959385, 0.948467, 0.947514, 0.947232, 0.945802, 0.943822, 0.942393, 0.941788, 0.935815, 0.935615, 0.9337, 0.932704, 0.931721, 0.926341, 0.913506, 0.90659, 0.901738, 0.893645, 0.893026, 0.891096, 0.890459, 0.888781, 0.884613, 0.883538, 0.883195, 0.881535]}}\n"
     ]
    }
   ],
   "source": [
    "booster = trained_model['booster']  # booster is the trained model\n",
    "history = trained_model['history']  # A dictionary containing evaluation results\n",
    "# Save the model to file\n",
    "booster.save_model('xgboost-model')\n",
    "print('Training evaluation history:', history)"
   ]
  },
  {
   "cell_type": "markdown",
   "metadata": {},
   "source": [
    "## VISUALIZATIONS with Pandas"
   ]
  },
  {
   "cell_type": "code",
   "execution_count": 46,
   "metadata": {},
   "outputs": [],
   "source": [
    "import matplotlib as mpl\n",
    "import matplotlib.pyplot as plt\n",
    "import numpy as np"
   ]
  },
  {
   "cell_type": "code",
   "execution_count": 76,
   "metadata": {},
   "outputs": [],
   "source": [
    "X_test = X_test.reset_index(drop=True)\n",
    "X_test_cudf = X_test.compute()\n",
    "X_test_cudf['fare_amount']= true.compute()\n",
    "X_test_cudf['prediction']= pred.compute()\n",
    "\n",
    "X_test_pd = X_test_cudf.to_pandas()"
   ]
  },
  {
   "cell_type": "code",
   "execution_count": 77,
   "metadata": {},
   "outputs": [
    {
     "data": {
      "text/html": [
       "<div>\n",
       "<style scoped>\n",
       "    .dataframe tbody tr th:only-of-type {\n",
       "        vertical-align: middle;\n",
       "    }\n",
       "\n",
       "    .dataframe tbody tr th {\n",
       "        vertical-align: top;\n",
       "    }\n",
       "\n",
       "    .dataframe thead th {\n",
       "        text-align: right;\n",
       "    }\n",
       "</style>\n",
       "<table border=\"1\" class=\"dataframe\">\n",
       "  <thead>\n",
       "    <tr style=\"text-align: right;\">\n",
       "      <th></th>\n",
       "      <th>day</th>\n",
       "      <th>day_of_week</th>\n",
       "      <th>diff</th>\n",
       "      <th>dropoff_latitude</th>\n",
       "      <th>dropoff_latitude_r</th>\n",
       "      <th>dropoff_longitude</th>\n",
       "      <th>dropoff_longitude_r</th>\n",
       "      <th>h_distance</th>\n",
       "      <th>hour</th>\n",
       "      <th>is_weekend</th>\n",
       "      <th>...</th>\n",
       "      <th>passenger_count</th>\n",
       "      <th>pickup_latitude</th>\n",
       "      <th>pickup_latitude_r</th>\n",
       "      <th>pickup_longitude</th>\n",
       "      <th>pickup_longitude_r</th>\n",
       "      <th>rate_code</th>\n",
       "      <th>trip_distance</th>\n",
       "      <th>year</th>\n",
       "      <th>fare_amount</th>\n",
       "      <th>prediction</th>\n",
       "    </tr>\n",
       "  </thead>\n",
       "  <tbody>\n",
       "    <tr>\n",
       "      <th>0</th>\n",
       "      <td>29</td>\n",
       "      <td>4</td>\n",
       "      <td>637</td>\n",
       "      <td>40.757252</td>\n",
       "      <td>40.750000</td>\n",
       "      <td>-73.963699</td>\n",
       "      <td>-73.970001</td>\n",
       "      <td>2.006049</td>\n",
       "      <td>9</td>\n",
       "      <td>0</td>\n",
       "      <td>...</td>\n",
       "      <td>1</td>\n",
       "      <td>40.771763</td>\n",
       "      <td>40.770000</td>\n",
       "      <td>-73.949547</td>\n",
       "      <td>-73.949997</td>\n",
       "      <td>1</td>\n",
       "      <td>1.78</td>\n",
       "      <td>2016</td>\n",
       "      <td>9.0</td>\n",
       "      <td>8.727488</td>\n",
       "    </tr>\n",
       "    <tr>\n",
       "      <th>1</th>\n",
       "      <td>29</td>\n",
       "      <td>4</td>\n",
       "      <td>3727</td>\n",
       "      <td>40.692562</td>\n",
       "      <td>40.689999</td>\n",
       "      <td>-73.954803</td>\n",
       "      <td>-73.959999</td>\n",
       "      <td>5.836289</td>\n",
       "      <td>9</td>\n",
       "      <td>0</td>\n",
       "      <td>...</td>\n",
       "      <td>1</td>\n",
       "      <td>40.742992</td>\n",
       "      <td>40.739998</td>\n",
       "      <td>-73.973999</td>\n",
       "      <td>-73.979996</td>\n",
       "      <td>1</td>\n",
       "      <td>7.50</td>\n",
       "      <td>2016</td>\n",
       "      <td>41.0</td>\n",
       "      <td>36.659031</td>\n",
       "    </tr>\n",
       "    <tr>\n",
       "      <th>2</th>\n",
       "      <td>29</td>\n",
       "      <td>4</td>\n",
       "      <td>667</td>\n",
       "      <td>40.760555</td>\n",
       "      <td>40.759998</td>\n",
       "      <td>-73.979767</td>\n",
       "      <td>-73.979996</td>\n",
       "      <td>1.912229</td>\n",
       "      <td>9</td>\n",
       "      <td>0</td>\n",
       "      <td>...</td>\n",
       "      <td>1</td>\n",
       "      <td>40.744324</td>\n",
       "      <td>40.739998</td>\n",
       "      <td>-73.987267</td>\n",
       "      <td>-73.989998</td>\n",
       "      <td>1</td>\n",
       "      <td>1.40</td>\n",
       "      <td>2016</td>\n",
       "      <td>9.0</td>\n",
       "      <td>8.489439</td>\n",
       "    </tr>\n",
       "    <tr>\n",
       "      <th>3</th>\n",
       "      <td>29</td>\n",
       "      <td>4</td>\n",
       "      <td>195</td>\n",
       "      <td>40.796188</td>\n",
       "      <td>40.790001</td>\n",
       "      <td>-73.935356</td>\n",
       "      <td>-73.939995</td>\n",
       "      <td>0.651609</td>\n",
       "      <td>9</td>\n",
       "      <td>0</td>\n",
       "      <td>...</td>\n",
       "      <td>1</td>\n",
       "      <td>40.794361</td>\n",
       "      <td>40.790001</td>\n",
       "      <td>-73.942711</td>\n",
       "      <td>-73.949997</td>\n",
       "      <td>1</td>\n",
       "      <td>0.50</td>\n",
       "      <td>2016</td>\n",
       "      <td>4.5</td>\n",
       "      <td>4.085510</td>\n",
       "    </tr>\n",
       "    <tr>\n",
       "      <th>4</th>\n",
       "      <td>29</td>\n",
       "      <td>4</td>\n",
       "      <td>741</td>\n",
       "      <td>40.723995</td>\n",
       "      <td>40.719997</td>\n",
       "      <td>-73.996765</td>\n",
       "      <td>-74.000000</td>\n",
       "      <td>1.512221</td>\n",
       "      <td>9</td>\n",
       "      <td>0</td>\n",
       "      <td>...</td>\n",
       "      <td>1</td>\n",
       "      <td>40.713890</td>\n",
       "      <td>40.709999</td>\n",
       "      <td>-74.008774</td>\n",
       "      <td>-74.010002</td>\n",
       "      <td>1</td>\n",
       "      <td>1.00</td>\n",
       "      <td>2016</td>\n",
       "      <td>9.0</td>\n",
       "      <td>8.614785</td>\n",
       "    </tr>\n",
       "  </tbody>\n",
       "</table>\n",
       "<p>5 rows × 21 columns</p>\n",
       "</div>"
      ],
      "text/plain": [
       "   day  day_of_week  diff  dropoff_latitude  dropoff_latitude_r  \\\n",
       "0   29            4   637         40.757252           40.750000   \n",
       "1   29            4  3727         40.692562           40.689999   \n",
       "2   29            4   667         40.760555           40.759998   \n",
       "3   29            4   195         40.796188           40.790001   \n",
       "4   29            4   741         40.723995           40.719997   \n",
       "\n",
       "   dropoff_longitude  dropoff_longitude_r  h_distance  hour  is_weekend  ...  \\\n",
       "0         -73.963699           -73.970001    2.006049     9           0  ...   \n",
       "1         -73.954803           -73.959999    5.836289     9           0  ...   \n",
       "2         -73.979767           -73.979996    1.912229     9           0  ...   \n",
       "3         -73.935356           -73.939995    0.651609     9           0  ...   \n",
       "4         -73.996765           -74.000000    1.512221     9           0  ...   \n",
       "\n",
       "   passenger_count  pickup_latitude  pickup_latitude_r  pickup_longitude  \\\n",
       "0                1        40.771763          40.770000        -73.949547   \n",
       "1                1        40.742992          40.739998        -73.973999   \n",
       "2                1        40.744324          40.739998        -73.987267   \n",
       "3                1        40.794361          40.790001        -73.942711   \n",
       "4                1        40.713890          40.709999        -74.008774   \n",
       "\n",
       "   pickup_longitude_r  rate_code  trip_distance  year  fare_amount  prediction  \n",
       "0          -73.949997          1           1.78  2016          9.0    8.727488  \n",
       "1          -73.979996          1           7.50  2016         41.0   36.659031  \n",
       "2          -73.989998          1           1.40  2016          9.0    8.489439  \n",
       "3          -73.949997          1           0.50  2016          4.5    4.085510  \n",
       "4          -74.010002          1           1.00  2016          9.0    8.614785  \n",
       "\n",
       "[5 rows x 21 columns]"
      ]
     },
     "execution_count": 77,
     "metadata": {},
     "output_type": "execute_result"
    }
   ],
   "source": [
    "X_test_cudf.head()"
   ]
  },
  {
   "cell_type": "code",
   "execution_count": 210,
   "metadata": {},
   "outputs": [
    {
     "data": {
      "text/plain": [
       "<matplotlib.axes._subplots.AxesSubplot at 0x7f7940c66410>"
      ]
     },
     "execution_count": 210,
     "metadata": {},
     "output_type": "execute_result"
    },
    {
     "data": {
      "image/png": "[encoded data removed]",
      "text/plain": [
       "<Figure size 432x288 with 1 Axes>"
      ]
     },
     "metadata": {
      "needs_background": "light"
     },
     "output_type": "display_data"
    }
   ],
   "source": [
    "X_test_pd.groupby('passenger_count').size().plot.bar(color ='green')"
   ]
  },
  {
   "cell_type": "code",
   "execution_count": 213,
   "metadata": {},
   "outputs": [
    {
     "name": "stdout",
     "output_type": "stream",
     "text": [
      "0\n"
     ]
    },
    {
     "data": {
      "image/png": "[encoded data removed]",
      "text/plain": [
       "<Figure size 432x288 with 1 Axes>"
      ]
     },
     "metadata": {
      "needs_background": "light"
     },
     "output_type": "display_data"
    }
   ],
   "source": [
    "print(mpl.rcParams['agg.path.chunksize'])\n",
    "mpl.rcParams['agg.path.chunksize'] = 10000\n",
    "\n",
    "fig, ax = plt.subplots()\n",
    "ax.set_xlabel('trip_distance')     \n",
    "ax.set_ylabel('fare_amount') \n",
    "ax.scatter(X_test_pd['trip_distance'], X_test_pd['fare_amount'])\n",
    "plt.show()"
   ]
  },
  {
   "cell_type": "code",
   "execution_count": 214,
   "metadata": {},
   "outputs": [
    {
     "name": "stdout",
     "output_type": "stream",
     "text": [
      "10000\n"
     ]
    },
    {
     "data": {
      "image/png": "[encoded data removed]",
      "text/plain": [
       "<Figure size 432x288 with 1 Axes>"
      ]
     },
     "metadata": {
      "needs_background": "light"
     },
     "output_type": "display_data"
    }
   ],
   "source": [
    "print(mpl.rcParams['agg.path.chunksize'])\n",
    "mpl.rcParams['agg.path.chunksize'] = 10000\n",
    "\n",
    "fig, ax = plt.subplots()\n",
    "ax.set_xlabel('h_distance')     \n",
    "ax.set_ylabel('fare_amount')   \n",
    "ax.scatter(X_test_pd['h_distance'], X_test_pd['fare_amount'])\n",
    "plt.show()"
   ]
  },
  {
   "cell_type": "code",
   "execution_count": 215,
   "metadata": {},
   "outputs": [
    {
     "name": "stdout",
     "output_type": "stream",
     "text": [
      "10000\n"
     ]
    },
    {
     "data": {
      "image/png": "[encoded data removed]",
      "text/plain": [
       "<Figure size 432x288 with 1 Axes>"
      ]
     },
     "metadata": {
      "needs_background": "light"
     },
     "output_type": "display_data"
    }
   ],
   "source": [
    "print(mpl.rcParams['agg.path.chunksize'])\n",
    "mpl.rcParams['agg.path.chunksize'] = 10000\n",
    "\n",
    "fig, ax = plt.subplots()\n",
    "ax.set_xlabel('h_distance')     \n",
    "ax.set_ylabel('trip_distance')   \n",
    "ax.scatter(X_test_pd['h_distance'], X_test_pd['trip_distance'])\n",
    "plt.show()"
   ]
  },
  {
   "cell_type": "code",
   "execution_count": 216,
   "metadata": {},
   "outputs": [
    {
     "data": {
      "image/png": "[encoded data removed]",
      "text/plain": [
       "<Figure size 1080x360 with 1 Axes>"
      ]
     },
     "metadata": {
      "needs_background": "light"
     },
     "output_type": "display_data"
    }
   ],
   "source": [
    "ax = X_test_pd['trip_distance'].hist(bins=30, figsize=(15,5), color='red')\n",
    "ax.set_yscale('log')\n",
    "ax.set_xlabel(\"trip distance (miles)\")\n",
    "ax.set_ylabel(\"count\")\n",
    "plt.show()"
   ]
  },
  {
   "cell_type": "markdown",
   "metadata": {},
   "source": [
    "## VISUALS WITH CUXFILTER"
   ]
  },
  {
   "cell_type": "code",
   "execution_count": 44,
   "metadata": {},
   "outputs": [],
   "source": [
    "#update data_dir if you have downloaded datasets elsewhere\n",
    "import cuxfilter as cxf\n",
    "import datashader as ds\n",
    "import datashader.transfer_functions as tf\n",
    "from cuxfilter import DataFrame, themes, layouts\n",
    "from cuxfilter.charts import bokeh, datashader, panel_widgets\n",
    "from colorcet import fire"
   ]
  },
  {
   "cell_type": "code",
   "execution_count": 50,
   "metadata": {},
   "outputs": [
    {
     "data": {
      "image/png": "[encoded data removed]",
      "text/html": [
       "<img style=\"margin: auto; border:1px solid\" src='data:image/png;base64,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'/>"
      ],
      "text/plain": [
       "<xarray.Image (pickup_latitude: 400, pickup_longitude: 400)>\n",
       "array([[4278190080, 4278190080, 4278190080, ..., 4278190080, 4278190080,\n",
       "        4278190080],\n",
       "       [4278190080, 4278190080, 4278190080, ..., 4278190080, 4278190080,\n",
       "        4278190080],\n",
       "       [4278190080, 4278190080, 4278190080, ..., 4278190080, 4278190080,\n",
       "        4278190080],\n",
       "       ...,\n",
       "       [4278190080, 4278190080, 4278190080, ..., 4278190080, 4278190080,\n",
       "        4278190080],\n",
       "       [4278190080, 4278190080, 4278190080, ..., 4278190080, 4278190080,\n",
       "        4278190080],\n",
       "       [4278190080, 4278190080, 4278190080, ..., 4278190080, 4278190080,\n",
       "        4278190080]], dtype=uint32)\n",
       "Coordinates:\n",
       "  * pickup_longitude  (pickup_longitude) float64 -74.61 -74.61 ... -73.12 -73.12\n",
       "  * pickup_latitude   (pickup_latitude) float64 40.16 40.16 ... 41.34 41.34"
      ]
     },
     "execution_count": 50,
     "metadata": {},
     "output_type": "execute_result"
    }
   ],
   "source": [
    "\n",
    "# cvs = ds.Canvas(plot_width=500, plot_height=500, x_range=x_range, y_range=y_range)\n",
    "# agg = cvs.points(X_test_cudf, 'pickup_longitude', 'pickup_latitude', ds.mean('prediction'))\n",
    "cvs = ds.Canvas(plot_width=400, plot_height=400)\n",
    "agg = cvs.points(X_test_cudf, 'pickup_longitude', 'pickup_latitude', ds.mean('fare_amount'))\n",
    "#tf.set_background(tf.shade(agg, cmap=['lightblue', 'darkblue']),\"black\")\n",
    "tf.set_background(tf.shade(agg, cmap=fire),\"black\")"
   ]
  },
  {
   "cell_type": "code",
   "execution_count": 51,
   "metadata": {},
   "outputs": [
    {
     "data": {
      "text/plain": [
       "5    410791\n",
       "4    391606\n",
       "3    362485\n",
       "6    341704\n",
       "2    340233\n",
       "1    310370\n",
       "0    266995\n",
       "Name: day_of_week, dtype: int32"
      ]
     },
     "execution_count": 51,
     "metadata": {},
     "output_type": "execute_result"
    }
   ],
   "source": [
    "X_test_cudf['day_of_week'].value_counts()"
   ]
  },
  {
   "cell_type": "code",
   "execution_count": 90,
   "metadata": {},
   "outputs": [],
   "source": [
    "cux_df = cxf.DataFrame.from_dataframe(X_test_cudf)\n",
    "\n",
    "cux_df.data['fare_amount'] = cux_df.data['fare_amount']\n",
    "\n",
    "label_map = {0.0: 'Sat', 1.0: 'Sun',    2.0: 'Mon',    3.0: 'Tues',    4.0: 'Wed',   5.0: 'Thu',    6.0: 'Fri'}\n",
    "#red_blue_palette = [(49,130,189),(107,174,214), (123, 142, 216), (226,103,152), (255,0,104) , (50,50,50)]\n",
    "red_yellow_palette = [(236,155,0), (236,202,0), (236,0,0),(236,36,0), (236,83,0)]\n",
    "\n",
    "#declare charts\n",
    "chart1 = cxf.charts.datashader.scatter_geo(x='pickup_longitude', y='pickup_latitude', aggregate_col='fare_amount', aggregate_fn='mean', color_palette=fire)\n",
    "chart2 = cxf.charts.panel_widgets.multi_select('day_of_week')\n",
    "chart3 = cxf.charts.bokeh.bar('day_of_week', x_label_map=label_map)\n",
    "fare_vs_dist = cxf.charts.datashader.scatter(x='h_distance', y='fare_amount', x_range=(X_test_cudf['h_distance'].min(), X_test_cudf['h_distance'].max()), \n",
    "                                             y_range=(X_test_cudf['fare_amount'].min(), X_test_cudf['fare_amount'].max()))\n",
    "\n",
    "heatmap = cxf.charts.datashader.heatmap(x='pickup_longitude', y='pickup_latitude', aggregate_col='prediction', aggregate_fn='mean', color_palette=fire)\n",
    "\n",
    "#declare dashboard\n",
    "d = cux_df.dashboard([chart1, chart2, chart3, fare_vs_dist, heatmap], layout=cxf.layouts.feature_and_double_base,theme = cxf.themes.light, \n",
    "                     title='Taxi Dataset', data_size_widget=True)"
   ]
  },
  {
   "cell_type": "code",
   "execution_count": 94,
   "metadata": {},
   "outputs": [
    {
     "name": "stdout",
     "output_type": "stream",
     "text": [
      "Dashboard running at http://jupyter-notebook/lab-url/proxy/59805/\n"
     ]
    }
   ],
   "source": [
    "#run the dashboard as a webapp:\n",
    "d.show('jupyter-notebook/lab-url')"
   ]
  },
  {
   "cell_type": "code",
   "execution_count": 100,
   "metadata": {},
   "outputs": [],
   "source": [
    "d.stop()"
   ]
  },
  {
   "cell_type": "code",
   "execution_count": 93,
   "metadata": {},
   "outputs": [
    {
     "name": "stderr",
     "output_type": "stream",
     "text": [
      "[W:pyppeteer.chromium_downloader] start secure https chromium download.\n",
      "Download may take a few minutes.\n",
      "100%|██████████| 111538828/111538828 [00:00<00:00, 112011919.88it/s]\n",
      "[W:pyppeteer.chromium_downloader] \n",
      "chromium download done.\n",
      "[W:pyppeteer.chromium_downloader] chromium extracted to: /home/ronaya/.local/share/pyppeteer/local-chromium/609904\n"
     ]
    },
    {
     "data": {
      "image/png": "[encoded data removed]",
      "text/plain": [
       "<IPython.core.display.Image object>"
      ]
     },
     "metadata": {},
     "output_type": "display_data"
    }
   ],
   "source": [
    "await d.preview()"
   ]
  }
 ],
 "metadata": {
  "kernelspec": {
   "display_name": "Python 3",
   "language": "python",
   "name": "python3"
  },
  "language_info": {
   "codemirror_mode": {
    "name": "ipython",
    "version": 3
   },
   "file_extension": ".py",
   "mimetype": "text/x-python",
   "name": "python",
   "nbconvert_exporter": "python",
   "pygments_lexer": "ipython3",
   "version": "3.7.6"
  },
  "toc": {
   "base_numbering": 1,
   "nav_menu": {},
   "number_sections": true,
   "sideBar": true,
   "skip_h1_title": false,
   "title_cell": "Table of Contents",
   "title_sidebar": "Contents",
   "toc_cell": false,
   "toc_position": {},
   "toc_section_display": true,
   "toc_window_display": false
  }
 },
 "nbformat": 4,
 "nbformat_minor": 4
}
