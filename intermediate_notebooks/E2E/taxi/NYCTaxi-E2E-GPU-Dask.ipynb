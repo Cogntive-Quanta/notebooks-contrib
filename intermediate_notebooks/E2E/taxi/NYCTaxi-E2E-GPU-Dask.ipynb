{
 "cells": [
  {
   "cell_type": "code",
   "execution_count": 1,
   "metadata": {},
   "outputs": [
    {
     "data": {
      "text/html": [
       "<table style=\"border: 2px solid white;\">\n",
       "<tr>\n",
       "<td style=\"vertical-align: top; border: 0px solid white\">\n",
       "<h3 style=\"text-align: left;\">Client</h3>\n",
       "<ul style=\"text-align: left; list-style: none; margin: 0; padding: 0;\">\n",
       "  <li><b>Scheduler: </b>tcp://127.0.0.1:44993</li>\n",
       "  <li><b>Dashboard: </b><a href='http://127.0.0.1:8787/status' target='_blank'>http://127.0.0.1:8787/status</a>\n",
       "</ul>\n",
       "</td>\n",
       "<td style=\"vertical-align: top; border: 0px solid white\">\n",
       "<h3 style=\"text-align: left;\">Cluster</h3>\n",
       "<ul style=\"text-align: left; list-style:none; margin: 0; padding: 0;\">\n",
       "  <li><b>Workers: </b>2</li>\n",
       "  <li><b>Cores: </b>2</li>\n",
       "  <li><b>Memory: </b>100.01 GB</li>\n",
       "</ul>\n",
       "</td>\n",
       "</tr>\n",
       "</table>"
      ],
      "text/plain": [
       "<Client: 'tcp://127.0.0.1:44993' processes=2 threads=2, memory=100.01 GB>"
      ]
     },
     "execution_count": 1,
     "metadata": {},
     "output_type": "execute_result"
    }
   ],
   "source": [
    "import numpy as np\n",
    "import pandas as pd\n",
    "import math\n",
    "import numba, socket, time\n",
    "import cudf\n",
    "import dask, dask_cudf\n",
    "import xgboost as xgb\n",
    "import cuspatial\n",
    "from dask.distributed import Client, wait\n",
    "from dask_cuda import LocalCUDACluster\n",
    "\n",
    "\n",
    "# connect to the Dask cluster created at Dataproc startup time\n",
    "cluster = LocalCUDACluster()\n",
    "client = Client(cluster)\n",
    "# forces workers to restart. useful to ensure GPU memory is clear\n",
    "client.restart()\n",
    "\n",
    "# # limit work-stealing as much as possible\n",
    "# dask.config.set({'distributed.scheduler.work-stealing': False})\n",
    "# dask.config.get('distributed.scheduler.work-stealing')\n",
    "# dask.config.set({'distributed.scheduler.bandwidth': 1})\n",
    "# dask.config.get('distributed.scheduler.bandwidth')\n",
    "\n",
    "client"
   ]
  },
  {
   "cell_type": "markdown",
   "metadata": {},
   "source": [
    "# Inspecting the Data\n",
    "\n",
    "Now that we have a cluster of GPU workers, we'll use [dask-cudf](https://github.com/rapidsai/dask-cudf/) to load and parse a bunch of CSV files into a distributed DataFrame."
   ]
  },
  {
   "cell_type": "code",
   "execution_count": 3,
   "metadata": {},
   "outputs": [
    {
     "data": {
      "text/html": [
       "<div>\n",
       "<style scoped>\n",
       "    .dataframe tbody tr th:only-of-type {\n",
       "        vertical-align: middle;\n",
       "    }\n",
       "\n",
       "    .dataframe tbody tr th {\n",
       "        vertical-align: top;\n",
       "    }\n",
       "\n",
       "    .dataframe thead th {\n",
       "        text-align: right;\n",
       "    }\n",
       "</style>\n",
       "<table border=\"1\" class=\"dataframe\">\n",
       "  <thead>\n",
       "    <tr style=\"text-align: right;\">\n",
       "      <th></th>\n",
       "      <th>VendorID</th>\n",
       "      <th>tpep_pickup_datetime</th>\n",
       "      <th>tpep_dropoff_datetime</th>\n",
       "      <th>passenger_count</th>\n",
       "      <th>trip_distance</th>\n",
       "      <th>pickup_longitude</th>\n",
       "      <th>pickup_latitude</th>\n",
       "      <th>RateCodeID</th>\n",
       "      <th>store_and_fwd_flag</th>\n",
       "      <th>dropoff_longitude</th>\n",
       "      <th>dropoff_latitude</th>\n",
       "      <th>payment_type</th>\n",
       "      <th>fare_amount</th>\n",
       "      <th>extra</th>\n",
       "      <th>mta_tax</th>\n",
       "      <th>tip_amount</th>\n",
       "      <th>tolls_amount</th>\n",
       "      <th>improvement_surcharge</th>\n",
       "      <th>total_amount</th>\n",
       "    </tr>\n",
       "  </thead>\n",
       "  <tbody>\n",
       "    <tr>\n",
       "      <th>0</th>\n",
       "      <td>2</td>\n",
       "      <td>2015-01-15 19:05:39</td>\n",
       "      <td>2015-01-15 19:23:42</td>\n",
       "      <td>1</td>\n",
       "      <td>1.59</td>\n",
       "      <td>-73.993896</td>\n",
       "      <td>40.750111</td>\n",
       "      <td>1</td>\n",
       "      <td>N</td>\n",
       "      <td>-73.974785</td>\n",
       "      <td>40.750618</td>\n",
       "      <td>1</td>\n",
       "      <td>12.0</td>\n",
       "      <td>1.0</td>\n",
       "      <td>0.5</td>\n",
       "      <td>3.25</td>\n",
       "      <td>0.0</td>\n",
       "      <td>0.3</td>\n",
       "      <td>17.05</td>\n",
       "    </tr>\n",
       "    <tr>\n",
       "      <th>1</th>\n",
       "      <td>1</td>\n",
       "      <td>2015-01-10 20:33:38</td>\n",
       "      <td>2015-01-10 20:53:28</td>\n",
       "      <td>1</td>\n",
       "      <td>3.30</td>\n",
       "      <td>-74.001648</td>\n",
       "      <td>40.724243</td>\n",
       "      <td>1</td>\n",
       "      <td>N</td>\n",
       "      <td>-73.994415</td>\n",
       "      <td>40.759109</td>\n",
       "      <td>1</td>\n",
       "      <td>14.5</td>\n",
       "      <td>0.5</td>\n",
       "      <td>0.5</td>\n",
       "      <td>2.00</td>\n",
       "      <td>0.0</td>\n",
       "      <td>0.3</td>\n",
       "      <td>17.80</td>\n",
       "    </tr>\n",
       "    <tr>\n",
       "      <th>2</th>\n",
       "      <td>1</td>\n",
       "      <td>2015-01-10 20:33:38</td>\n",
       "      <td>2015-01-10 20:43:41</td>\n",
       "      <td>1</td>\n",
       "      <td>1.80</td>\n",
       "      <td>-73.963341</td>\n",
       "      <td>40.802788</td>\n",
       "      <td>1</td>\n",
       "      <td>N</td>\n",
       "      <td>-73.951820</td>\n",
       "      <td>40.824413</td>\n",
       "      <td>2</td>\n",
       "      <td>9.5</td>\n",
       "      <td>0.5</td>\n",
       "      <td>0.5</td>\n",
       "      <td>0.00</td>\n",
       "      <td>0.0</td>\n",
       "      <td>0.3</td>\n",
       "      <td>10.80</td>\n",
       "    </tr>\n",
       "    <tr>\n",
       "      <th>3</th>\n",
       "      <td>1</td>\n",
       "      <td>2015-01-10 20:33:39</td>\n",
       "      <td>2015-01-10 20:35:31</td>\n",
       "      <td>1</td>\n",
       "      <td>0.50</td>\n",
       "      <td>-74.009087</td>\n",
       "      <td>40.713818</td>\n",
       "      <td>1</td>\n",
       "      <td>N</td>\n",
       "      <td>-74.004326</td>\n",
       "      <td>40.719986</td>\n",
       "      <td>2</td>\n",
       "      <td>3.5</td>\n",
       "      <td>0.5</td>\n",
       "      <td>0.5</td>\n",
       "      <td>0.00</td>\n",
       "      <td>0.0</td>\n",
       "      <td>0.3</td>\n",
       "      <td>4.80</td>\n",
       "    </tr>\n",
       "    <tr>\n",
       "      <th>4</th>\n",
       "      <td>1</td>\n",
       "      <td>2015-01-10 20:33:39</td>\n",
       "      <td>2015-01-10 20:52:58</td>\n",
       "      <td>1</td>\n",
       "      <td>3.00</td>\n",
       "      <td>-73.971176</td>\n",
       "      <td>40.762428</td>\n",
       "      <td>1</td>\n",
       "      <td>N</td>\n",
       "      <td>-74.004181</td>\n",
       "      <td>40.742653</td>\n",
       "      <td>2</td>\n",
       "      <td>15.0</td>\n",
       "      <td>0.5</td>\n",
       "      <td>0.5</td>\n",
       "      <td>0.00</td>\n",
       "      <td>0.0</td>\n",
       "      <td>0.3</td>\n",
       "      <td>16.30</td>\n",
       "    </tr>\n",
       "  </tbody>\n",
       "</table>\n",
       "</div>"
      ],
      "text/plain": [
       "   VendorID tpep_pickup_datetime tpep_dropoff_datetime  passenger_count  \\\n",
       "0         2  2015-01-15 19:05:39   2015-01-15 19:23:42                1   \n",
       "1         1  2015-01-10 20:33:38   2015-01-10 20:53:28                1   \n",
       "2         1  2015-01-10 20:33:38   2015-01-10 20:43:41                1   \n",
       "3         1  2015-01-10 20:33:39   2015-01-10 20:35:31                1   \n",
       "4         1  2015-01-10 20:33:39   2015-01-10 20:52:58                1   \n",
       "\n",
       "   trip_distance  pickup_longitude  pickup_latitude  RateCodeID  \\\n",
       "0           1.59        -73.993896        40.750111           1   \n",
       "1           3.30        -74.001648        40.724243           1   \n",
       "2           1.80        -73.963341        40.802788           1   \n",
       "3           0.50        -74.009087        40.713818           1   \n",
       "4           3.00        -73.971176        40.762428           1   \n",
       "\n",
       "  store_and_fwd_flag  dropoff_longitude  dropoff_latitude  payment_type  \\\n",
       "0                  N         -73.974785         40.750618             1   \n",
       "1                  N         -73.994415         40.759109             1   \n",
       "2                  N         -73.951820         40.824413             2   \n",
       "3                  N         -74.004326         40.719986             2   \n",
       "4                  N         -74.004181         40.742653             2   \n",
       "\n",
       "   fare_amount  extra  mta_tax  tip_amount  tolls_amount  \\\n",
       "0         12.0    1.0      0.5        3.25           0.0   \n",
       "1         14.5    0.5      0.5        2.00           0.0   \n",
       "2          9.5    0.5      0.5        0.00           0.0   \n",
       "3          3.5    0.5      0.5        0.00           0.0   \n",
       "4         15.0    0.5      0.5        0.00           0.0   \n",
       "\n",
       "   improvement_surcharge  total_amount  \n",
       "0                    0.3         17.05  \n",
       "1                    0.3         17.80  \n",
       "2                    0.3         10.80  \n",
       "3                    0.3          4.80  \n",
       "4                    0.3         16.30  "
      ]
     },
     "execution_count": 3,
     "metadata": {},
     "output_type": "execute_result"
    }
   ],
   "source": [
    "import os\n",
    "os.getcwd()\n",
    "base_path= os.getcwd()\n",
    "df = dask_cudf.read_csv(base_path+ '/combined/'+'yellow_*.csv')\n",
    "df.head()"
   ]
  },
  {
   "cell_type": "code",
   "execution_count": 6,
   "metadata": {},
   "outputs": [
    {
     "data": {
      "text/plain": [
       "43614577"
      ]
     },
     "execution_count": 6,
     "metadata": {},
     "output_type": "execute_result"
    }
   ],
   "source": [
    "len(df)"
   ]
  },
  {
   "cell_type": "code",
   "execution_count": 4,
   "metadata": {},
   "outputs": [
    {
     "data": {
      "text/plain": [
       "VendorID                   int64\n",
       "tpep_pickup_datetime      object\n",
       "tpep_dropoff_datetime     object\n",
       "passenger_count            int64\n",
       "trip_distance            float64\n",
       "pickup_longitude         float64\n",
       "pickup_latitude          float64\n",
       "RateCodeID                 int64\n",
       "store_and_fwd_flag        object\n",
       "dropoff_longitude        float64\n",
       "dropoff_latitude         float64\n",
       "payment_type               int64\n",
       "fare_amount              float64\n",
       "extra                    float64\n",
       "mta_tax                  float64\n",
       "tip_amount               float64\n",
       "tolls_amount             float64\n",
       "improvement_surcharge    float64\n",
       "total_amount             float64\n",
       "dtype: object"
      ]
     },
     "execution_count": 4,
     "metadata": {},
     "output_type": "execute_result"
    }
   ],
   "source": [
    "df.dtypes"
   ]
  },
  {
   "cell_type": "markdown",
   "metadata": {},
   "source": [
    "# Data Cleanup\n",
    "\n",
    "As usual, the data needs to be massaged a bit before we can start adding features that are useful to an ML model.\n",
    "\n",
    "For example, in the 2014 taxi CSV files, there are `pickup_datetime` and `dropoff_datetime` columns. The 2015 CSVs have `tpep_pickup_datetime` and `tpep_dropoff_datetime`, which are the same columns. One year has `rate_code`, and another `RateCodeID`.\n",
    "\n",
    "Also, some CSV files have column names with extraneous spaces in them.\n",
    "\n",
    "Worst of all, starting in the July 2016 CSVs, pickup & dropoff latitude and longitude data were replaced by location IDs, making the second half of the year useless to us.\n",
    "\n",
    "We'll do a little string manipulation, column renaming, and concatenating of DataFrames to sidestep the problems."
   ]
  },
  {
   "cell_type": "code",
   "execution_count": 4,
   "metadata": {},
   "outputs": [],
   "source": [
    "#list of column names that need to be re-mapped\n",
    "remap = {}\n",
    "remap['tpep_pickup_datetime'] = 'pickup_datetime'\n",
    "remap['tpep_dropoff_datetime'] = 'dropoff_datetime'\n",
    "remap['ratecodeid'] = 'rate_code'\n",
    "\n",
    "#create a list of columns & dtypes the df must have\n",
    "must_haves = {\n",
    " 'pickup_datetime': 'M8[ns]',\n",
    " 'dropoff_datetime': 'M8[ns]',\n",
    " 'passenger_count': 'int32',\n",
    " 'trip_distance': 'float32',\n",
    " 'pickup_longitude': 'float32',\n",
    " 'pickup_latitude': 'float32',\n",
    " 'rate_code': 'int32',\n",
    " 'dropoff_longitude': 'float32',\n",
    " 'dropoff_latitude': 'float32',\n",
    " 'fare_amount': 'float32'\n",
    "}"
   ]
  },
  {
   "cell_type": "code",
   "execution_count": 5,
   "metadata": {},
   "outputs": [],
   "source": [
    "def clean(df_part, remap, must_haves):    \n",
    "    # some col-names include pre-pended spaces remove & lowercase column names\n",
    "    tmp = {col:col.strip().lower() for col in list(df_part.columns)}\n",
    "    df_part = df_part.rename(tmp)\n",
    "    \n",
    "    # rename using the supplied mapping\n",
    "    df_part = df_part.rename(remap)\n",
    "    \n",
    "    # iterate through columns in this df partition\n",
    "    for col in df_part.columns:\n",
    "        # drop anything not in our expected list\n",
    "        if col not in must_haves:\n",
    "            df_part = df_part.drop(col)\n",
    "            continue\n",
    "        \n",
    "        # fixes datetime error found by Ty Mckercher and fixed by Paul Mahler\n",
    "        if df_part[col].dtype == 'object' and col in ['pickup_datetime', 'dropoff_datetime']:\n",
    "            #df_part[col] = df_part[col].astype('datetime64[ms]')\n",
    "            df_part[col] = df_part[col].astype('M8[ns]')\n",
    "            continue\n",
    "                \n",
    "        # if column was read as a string, recast as float\n",
    "        if df_part[col].dtype == 'object':\n",
    "            df_part[col] = df_part[col].str.fillna('-1')\n",
    "            df_part[col] = df_part[col].astype('float32')\n",
    "        else:\n",
    "            # downcast from 64bit to 32bit types\n",
    "            # Tesla T4 are faster on 32bit ops\n",
    "            if 'int' in str(df_part[col].dtype):\n",
    "                df_part[col] = df_part[col].astype('int32')\n",
    "            if 'float' in str(df_part[col].dtype):\n",
    "                df_part[col] = df_part[col].astype('float32')\n",
    "            df_part[col] = df_part[col].fillna(-1)\n",
    "    \n",
    "    return df_part"
   ]
  },
  {
   "cell_type": "code",
   "execution_count": 6,
   "metadata": {},
   "outputs": [],
   "source": [
    "taxi_df = df.map_partitions(clean, remap, must_haves, meta=must_haves)"
   ]
  },
  {
   "cell_type": "code",
   "execution_count": 7,
   "metadata": {},
   "outputs": [
    {
     "data": {
      "text/plain": [
       "pickup_datetime      datetime64[ns]\n",
       "dropoff_datetime     datetime64[ns]\n",
       "passenger_count               int32\n",
       "trip_distance               float32\n",
       "pickup_longitude            float32\n",
       "pickup_latitude             float32\n",
       "rate_code                     int32\n",
       "dropoff_longitude           float32\n",
       "dropoff_latitude            float32\n",
       "fare_amount                 float32\n",
       "dtype: object"
      ]
     },
     "execution_count": 7,
     "metadata": {},
     "output_type": "execute_result"
    }
   ],
   "source": [
    "taxi_df.dtypes"
   ]
  },
  {
   "cell_type": "code",
   "execution_count": 8,
   "metadata": {},
   "outputs": [
    {
     "data": {
      "text/html": [
       "<div>\n",
       "<style scoped>\n",
       "    .dataframe tbody tr th:only-of-type {\n",
       "        vertical-align: middle;\n",
       "    }\n",
       "\n",
       "    .dataframe tbody tr th {\n",
       "        vertical-align: top;\n",
       "    }\n",
       "\n",
       "    .dataframe thead th {\n",
       "        text-align: right;\n",
       "    }\n",
       "</style>\n",
       "<table border=\"1\" class=\"dataframe\">\n",
       "  <thead>\n",
       "    <tr style=\"text-align: right;\">\n",
       "      <th></th>\n",
       "      <th>pickup_datetime</th>\n",
       "      <th>dropoff_datetime</th>\n",
       "      <th>passenger_count</th>\n",
       "      <th>trip_distance</th>\n",
       "      <th>pickup_longitude</th>\n",
       "      <th>pickup_latitude</th>\n",
       "      <th>rate_code</th>\n",
       "      <th>dropoff_longitude</th>\n",
       "      <th>dropoff_latitude</th>\n",
       "      <th>fare_amount</th>\n",
       "    </tr>\n",
       "  </thead>\n",
       "  <tbody>\n",
       "    <tr>\n",
       "      <th>0</th>\n",
       "      <td>2015-01-15 19:05:39</td>\n",
       "      <td>2015-01-15 19:23:42</td>\n",
       "      <td>1</td>\n",
       "      <td>1.59</td>\n",
       "      <td>-73.993896</td>\n",
       "      <td>40.750111</td>\n",
       "      <td>1</td>\n",
       "      <td>-73.974785</td>\n",
       "      <td>40.750618</td>\n",
       "      <td>12.0</td>\n",
       "    </tr>\n",
       "    <tr>\n",
       "      <th>1</th>\n",
       "      <td>2015-01-10 20:33:38</td>\n",
       "      <td>2015-01-10 20:53:28</td>\n",
       "      <td>1</td>\n",
       "      <td>3.30</td>\n",
       "      <td>-74.001648</td>\n",
       "      <td>40.724243</td>\n",
       "      <td>1</td>\n",
       "      <td>-73.994415</td>\n",
       "      <td>40.759109</td>\n",
       "      <td>14.5</td>\n",
       "    </tr>\n",
       "    <tr>\n",
       "      <th>2</th>\n",
       "      <td>2015-01-10 20:33:38</td>\n",
       "      <td>2015-01-10 20:43:41</td>\n",
       "      <td>1</td>\n",
       "      <td>1.80</td>\n",
       "      <td>-73.963341</td>\n",
       "      <td>40.802788</td>\n",
       "      <td>1</td>\n",
       "      <td>-73.951820</td>\n",
       "      <td>40.824413</td>\n",
       "      <td>9.5</td>\n",
       "    </tr>\n",
       "    <tr>\n",
       "      <th>3</th>\n",
       "      <td>2015-01-10 20:33:39</td>\n",
       "      <td>2015-01-10 20:35:31</td>\n",
       "      <td>1</td>\n",
       "      <td>0.50</td>\n",
       "      <td>-74.009087</td>\n",
       "      <td>40.713818</td>\n",
       "      <td>1</td>\n",
       "      <td>-74.004326</td>\n",
       "      <td>40.719986</td>\n",
       "      <td>3.5</td>\n",
       "    </tr>\n",
       "    <tr>\n",
       "      <th>4</th>\n",
       "      <td>2015-01-10 20:33:39</td>\n",
       "      <td>2015-01-10 20:52:58</td>\n",
       "      <td>1</td>\n",
       "      <td>3.00</td>\n",
       "      <td>-73.971176</td>\n",
       "      <td>40.762428</td>\n",
       "      <td>1</td>\n",
       "      <td>-74.004181</td>\n",
       "      <td>40.742653</td>\n",
       "      <td>15.0</td>\n",
       "    </tr>\n",
       "  </tbody>\n",
       "</table>\n",
       "</div>"
      ],
      "text/plain": [
       "      pickup_datetime    dropoff_datetime  passenger_count  trip_distance  \\\n",
       "0 2015-01-15 19:05:39 2015-01-15 19:23:42                1           1.59   \n",
       "1 2015-01-10 20:33:38 2015-01-10 20:53:28                1           3.30   \n",
       "2 2015-01-10 20:33:38 2015-01-10 20:43:41                1           1.80   \n",
       "3 2015-01-10 20:33:39 2015-01-10 20:35:31                1           0.50   \n",
       "4 2015-01-10 20:33:39 2015-01-10 20:52:58                1           3.00   \n",
       "\n",
       "   pickup_longitude  pickup_latitude  rate_code  dropoff_longitude  \\\n",
       "0        -73.993896        40.750111          1         -73.974785   \n",
       "1        -74.001648        40.724243          1         -73.994415   \n",
       "2        -73.963341        40.802788          1         -73.951820   \n",
       "3        -74.009087        40.713818          1         -74.004326   \n",
       "4        -73.971176        40.762428          1         -74.004181   \n",
       "\n",
       "   dropoff_latitude  fare_amount  \n",
       "0         40.750618         12.0  \n",
       "1         40.759109         14.5  \n",
       "2         40.824413          9.5  \n",
       "3         40.719986          3.5  \n",
       "4         40.742653         15.0  "
      ]
     },
     "execution_count": 8,
     "metadata": {},
     "output_type": "execute_result"
    }
   ],
   "source": [
    "# apply a list of filter conditions to throw out records with missing or outlier values\n",
    "query_frags = [\n",
    "    'fare_amount > 1 and fare_amount < 500',\n",
    "    'passenger_count > 0 and passenger_count < 6',\n",
    "    'pickup_longitude > -75 and pickup_longitude < -73',\n",
    "    'dropoff_longitude > -75 and dropoff_longitude < -73',\n",
    "    'pickup_latitude > 40 and pickup_latitude < 42',\n",
    "    'dropoff_latitude > 40 and dropoff_latitude < 42',\n",
    "    'trip_distance > 0 and trip_distance < 500'\n",
    "]\n",
    "taxi_df = taxi_df.query(' and '.join(query_frags))\n",
    "\n",
    "#filter out the abnormal data where trip distance is long, but the fare is very low.\n",
    "mask = (taxi_df.trip_distance > 100) & (taxi_df.fare_amount < 50) \n",
    "taxi_df = taxi_df[~mask]\n",
    "\n",
    "#filter out the abnormal data where trip distance is short, but the fare is very high.\n",
    "mask = (taxi_df.trip_distance < 5) & (taxi_df.fare_amount > 300) \n",
    "taxi_df = taxi_df[~mask]\n",
    "\n",
    "# check if there is any negative total trip time, and remove these records.\n",
    "mask = (taxi_df.dropoff_datetime <= taxi_df.pickup_datetime)\n",
    "taxi_df = taxi_df[~mask]\n",
    "\n",
    "# inspect the results of cleaning\n",
    "taxi_df.head()"
   ]
  },
  {
   "cell_type": "markdown",
   "metadata": {},
   "source": [
    "# Adding Interesting Features\n",
    "\n",
    "Dask & cuDF provide standard DataFrame operations, but also let you run \"user defined functions\" on the underlying data.\n",
    "\n",
    "cuDF's [apply_rows](https://rapidsai.github.io/projects/cudf/en/0.6.0/api.html#cudf.dataframe.DataFrame.apply_rows) operation is similar to Pandas's [DataFrame.apply](https://pandas.pydata.org/pandas-docs/stable/reference/api/pandas.DataFrame.apply.html), except that for cuDF, custom Python code is [JIT compiled by numba](https://numba.pydata.org/numba-doc/dev/cuda/kernels.html) into GPU kernels.\n",
    "\n",
    "We'll use a Haversine Distance calculation to find total trip distance, and extract additional useful variables from the datetime fields."
   ]
  },
  {
   "cell_type": "code",
   "execution_count": 10,
   "metadata": {},
   "outputs": [],
   "source": [
    "## add features\n",
    "\n",
    "taxi_df['hour'] = taxi_df['pickup_datetime'].dt.hour\n",
    "taxi_df['year'] = taxi_df['pickup_datetime'].dt.year\n",
    "taxi_df['month'] = taxi_df['pickup_datetime'].dt.month\n",
    "taxi_df['day'] = taxi_df['pickup_datetime'].dt.day\n",
    "\n",
    "#this line does not work\n",
    "#taxi_df['diff'] = taxi_df['dropoff_datetime'].astype('int32') - taxi_df['pickup_datetime'].astype('int32')\n",
    "\n",
    "#this is an alternative way.\n",
    "taxi_df['diff'] = taxi_df['dropoff_datetime'].astype('int64') - taxi_df['pickup_datetime'].astype('int64')\n",
    "taxi_df['diff']=(taxi_df['diff']/1000000000).astype('int64')\n",
    "\n",
    "taxi_df['pickup_latitude_r'] = taxi_df['pickup_latitude']//.01*.01\n",
    "taxi_df['pickup_longitude_r'] = taxi_df['pickup_longitude']//.01*.01\n",
    "taxi_df['dropoff_latitude_r'] = taxi_df['dropoff_latitude']//.01*.01\n",
    "taxi_df['dropoff_longitude_r'] = taxi_df['dropoff_longitude']//.01*.01\n",
    "\n",
    "taxi_df = taxi_df.drop('pickup_datetime', axis=1)\n",
    "taxi_df = taxi_df.drop('dropoff_datetime', axis=1)"
   ]
  },
  {
   "cell_type": "code",
   "execution_count": 11,
   "metadata": {},
   "outputs": [
    {
     "data": {
      "text/plain": [
       "passenger_count          int32\n",
       "trip_distance          float32\n",
       "pickup_longitude       float32\n",
       "pickup_latitude        float32\n",
       "rate_code                int32\n",
       "dropoff_longitude      float32\n",
       "dropoff_latitude       float32\n",
       "fare_amount            float32\n",
       "hour                     int64\n",
       "year                     int64\n",
       "month                    int64\n",
       "day                      int64\n",
       "diff                     int64\n",
       "pickup_latitude_r      float32\n",
       "pickup_longitude_r     float32\n",
       "dropoff_latitude_r     float32\n",
       "dropoff_longitude_r    float32\n",
       "dtype: object"
      ]
     },
     "execution_count": 11,
     "metadata": {},
     "output_type": "execute_result"
    }
   ],
   "source": [
    "taxi_df.dtypes"
   ]
  },
  {
   "cell_type": "code",
   "execution_count": 12,
   "metadata": {},
   "outputs": [
    {
     "data": {
      "text/html": [
       "<div>\n",
       "<style scoped>\n",
       "    .dataframe tbody tr th:only-of-type {\n",
       "        vertical-align: middle;\n",
       "    }\n",
       "\n",
       "    .dataframe tbody tr th {\n",
       "        vertical-align: top;\n",
       "    }\n",
       "\n",
       "    .dataframe thead th {\n",
       "        text-align: right;\n",
       "    }\n",
       "</style>\n",
       "<table border=\"1\" class=\"dataframe\">\n",
       "  <thead>\n",
       "    <tr style=\"text-align: right;\">\n",
       "      <th></th>\n",
       "      <th>passenger_count</th>\n",
       "      <th>trip_distance</th>\n",
       "      <th>pickup_longitude</th>\n",
       "      <th>pickup_latitude</th>\n",
       "      <th>rate_code</th>\n",
       "      <th>dropoff_longitude</th>\n",
       "      <th>dropoff_latitude</th>\n",
       "      <th>fare_amount</th>\n",
       "      <th>hour</th>\n",
       "      <th>year</th>\n",
       "      <th>month</th>\n",
       "      <th>day</th>\n",
       "      <th>diff</th>\n",
       "      <th>pickup_latitude_r</th>\n",
       "      <th>pickup_longitude_r</th>\n",
       "      <th>dropoff_latitude_r</th>\n",
       "      <th>dropoff_longitude_r</th>\n",
       "    </tr>\n",
       "  </thead>\n",
       "  <tbody>\n",
       "    <tr>\n",
       "      <th>0</th>\n",
       "      <td>1</td>\n",
       "      <td>1.59</td>\n",
       "      <td>-73.993896</td>\n",
       "      <td>40.750111</td>\n",
       "      <td>1</td>\n",
       "      <td>-73.974785</td>\n",
       "      <td>40.750618</td>\n",
       "      <td>12.0</td>\n",
       "      <td>19</td>\n",
       "      <td>2015</td>\n",
       "      <td>1</td>\n",
       "      <td>15</td>\n",
       "      <td>1083</td>\n",
       "      <td>40.750000</td>\n",
       "      <td>-74.000000</td>\n",
       "      <td>40.750000</td>\n",
       "      <td>-73.979996</td>\n",
       "    </tr>\n",
       "    <tr>\n",
       "      <th>1</th>\n",
       "      <td>1</td>\n",
       "      <td>3.30</td>\n",
       "      <td>-74.001648</td>\n",
       "      <td>40.724243</td>\n",
       "      <td>1</td>\n",
       "      <td>-73.994415</td>\n",
       "      <td>40.759109</td>\n",
       "      <td>14.5</td>\n",
       "      <td>20</td>\n",
       "      <td>2015</td>\n",
       "      <td>1</td>\n",
       "      <td>10</td>\n",
       "      <td>1190</td>\n",
       "      <td>40.719997</td>\n",
       "      <td>-74.010002</td>\n",
       "      <td>40.750000</td>\n",
       "      <td>-74.000000</td>\n",
       "    </tr>\n",
       "    <tr>\n",
       "      <th>2</th>\n",
       "      <td>1</td>\n",
       "      <td>1.80</td>\n",
       "      <td>-73.963341</td>\n",
       "      <td>40.802788</td>\n",
       "      <td>1</td>\n",
       "      <td>-73.951820</td>\n",
       "      <td>40.824413</td>\n",
       "      <td>9.5</td>\n",
       "      <td>20</td>\n",
       "      <td>2015</td>\n",
       "      <td>1</td>\n",
       "      <td>10</td>\n",
       "      <td>603</td>\n",
       "      <td>40.799999</td>\n",
       "      <td>-73.970001</td>\n",
       "      <td>40.820000</td>\n",
       "      <td>-73.959999</td>\n",
       "    </tr>\n",
       "    <tr>\n",
       "      <th>3</th>\n",
       "      <td>1</td>\n",
       "      <td>0.50</td>\n",
       "      <td>-74.009087</td>\n",
       "      <td>40.713818</td>\n",
       "      <td>1</td>\n",
       "      <td>-74.004326</td>\n",
       "      <td>40.719986</td>\n",
       "      <td>3.5</td>\n",
       "      <td>20</td>\n",
       "      <td>2015</td>\n",
       "      <td>1</td>\n",
       "      <td>10</td>\n",
       "      <td>112</td>\n",
       "      <td>40.709999</td>\n",
       "      <td>-74.010002</td>\n",
       "      <td>40.709999</td>\n",
       "      <td>-74.010002</td>\n",
       "    </tr>\n",
       "    <tr>\n",
       "      <th>4</th>\n",
       "      <td>1</td>\n",
       "      <td>3.00</td>\n",
       "      <td>-73.971176</td>\n",
       "      <td>40.762428</td>\n",
       "      <td>1</td>\n",
       "      <td>-74.004181</td>\n",
       "      <td>40.742653</td>\n",
       "      <td>15.0</td>\n",
       "      <td>20</td>\n",
       "      <td>2015</td>\n",
       "      <td>1</td>\n",
       "      <td>10</td>\n",
       "      <td>1159</td>\n",
       "      <td>40.759998</td>\n",
       "      <td>-73.979996</td>\n",
       "      <td>40.739998</td>\n",
       "      <td>-74.010002</td>\n",
       "    </tr>\n",
       "  </tbody>\n",
       "</table>\n",
       "</div>"
      ],
      "text/plain": [
       "   passenger_count  trip_distance  pickup_longitude  pickup_latitude  \\\n",
       "0                1           1.59        -73.993896        40.750111   \n",
       "1                1           3.30        -74.001648        40.724243   \n",
       "2                1           1.80        -73.963341        40.802788   \n",
       "3                1           0.50        -74.009087        40.713818   \n",
       "4                1           3.00        -73.971176        40.762428   \n",
       "\n",
       "   rate_code  dropoff_longitude  dropoff_latitude  fare_amount  hour  year  \\\n",
       "0          1         -73.974785         40.750618         12.0    19  2015   \n",
       "1          1         -73.994415         40.759109         14.5    20  2015   \n",
       "2          1         -73.951820         40.824413          9.5    20  2015   \n",
       "3          1         -74.004326         40.719986          3.5    20  2015   \n",
       "4          1         -74.004181         40.742653         15.0    20  2015   \n",
       "\n",
       "   month  day  diff  pickup_latitude_r  pickup_longitude_r  \\\n",
       "0      1   15  1083          40.750000          -74.000000   \n",
       "1      1   10  1190          40.719997          -74.010002   \n",
       "2      1   10   603          40.799999          -73.970001   \n",
       "3      1   10   112          40.709999          -74.010002   \n",
       "4      1   10  1159          40.759998          -73.979996   \n",
       "\n",
       "   dropoff_latitude_r  dropoff_longitude_r  \n",
       "0           40.750000           -73.979996  \n",
       "1           40.750000           -74.000000  \n",
       "2           40.820000           -73.959999  \n",
       "3           40.709999           -74.010002  \n",
       "4           40.739998           -74.010002  "
      ]
     },
     "execution_count": 12,
     "metadata": {},
     "output_type": "execute_result"
    }
   ],
   "source": [
    "taxi_df.head()"
   ]
  },
  {
   "cell_type": "code",
   "execution_count": 14,
   "metadata": {},
   "outputs": [],
   "source": [
    "#create a list of columns & dtypes the df must have\n",
    "'''Note that order is important: the order of the names in meta should match the order of the columns'''\n",
    "\n",
    "extra_features = {\n",
    " 'passenger_count': 'int32',\n",
    " 'trip_distance': 'float32',\n",
    " 'pickup_longitude': 'float32',\n",
    " 'pickup_latitude': 'float32',\n",
    " 'rate_code': 'int32',\n",
    " 'dropoff_longitude': 'float32',\n",
    " 'dropoff_latitude': 'float32',\n",
    " 'fare_amount': 'float32',\n",
    " 'hour': 'int64',\n",
    " 'year': 'int64',\n",
    " 'month': 'int64',\n",
    " 'day': 'int32', \n",
    " 'diff': 'int64',\n",
    " 'pickup_latitude_r': 'float32',\n",
    " 'pickup_longitude_r': 'float32',\n",
    " 'dropoff_latitude_r': 'float32',\n",
    " 'dropoff_longitude_r': 'float32',\n",
    " 'h_distance': 'float32',\n",
    " 'day_of_week': 'float32',\n",
    " 'is_weekend': 'int32'   \n",
    "}"
   ]
  },
  {
   "cell_type": "code",
   "execution_count": 15,
   "metadata": {},
   "outputs": [],
   "source": [
    "def haversine_dist(df):\n",
    "    h_distance = cuspatial.haversine_distance(df['pickup_longitude'], df['pickup_latitude'], \n",
    "                                              df['dropoff_longitude'], df['dropoff_latitude'])\n",
    "    df['h_distance']= h_distance\n",
    "    df['h_distance']= df['h_distance'].astype('float32')\n",
    "    return df\n",
    "\n",
    "def day_of_the_week_kernel(day, month, year, day_of_week):\n",
    "    for i, (d_1, m_1, y_1) in enumerate(zip(day, month, year)):\n",
    "        if month[i] <3:\n",
    "            shift = month[i]\n",
    "        else:\n",
    "            shift = 0\n",
    "        Y = year[i] - (month[i] < 3)\n",
    "        y = Y - 2000\n",
    "        c = 20\n",
    "        d = day[i]\n",
    "        m = month[i] + shift + 1\n",
    "        day_of_week[i] = (d + math.floor(m*2.6) + y + (y//4) + (c//4) -2*c)%7\n",
    "        \n",
    "def add_features(df):\n",
    "\n",
    "    df = haversine_dist(df)\n",
    "    \n",
    "    df = df.apply_rows(day_of_the_week_kernel,\n",
    "                      incols=['day', 'month', 'year'],\n",
    "                      outcols=dict(day_of_week=np.float32),\n",
    "                      kwargs=dict())\n",
    "    \n",
    "    \n",
    "    df['is_weekend'] = (df['day_of_week']<2).astype(np.int32)\n",
    "    return df"
   ]
  },
  {
   "cell_type": "code",
   "execution_count": 16,
   "metadata": {},
   "outputs": [],
   "source": [
    "# actually add the features\n",
    "taxi_df = taxi_df.map_partitions(add_features, meta=extra_features)"
   ]
  },
  {
   "cell_type": "code",
   "execution_count": 17,
   "metadata": {},
   "outputs": [
    {
     "data": {
      "text/plain": [
       "passenger_count          int32\n",
       "trip_distance          float32\n",
       "pickup_longitude       float32\n",
       "pickup_latitude        float32\n",
       "rate_code                int32\n",
       "dropoff_longitude      float32\n",
       "dropoff_latitude       float32\n",
       "fare_amount            float32\n",
       "hour                     int64\n",
       "year                     int64\n",
       "month                    int64\n",
       "day                      int32\n",
       "diff                     int64\n",
       "pickup_latitude_r      float32\n",
       "pickup_longitude_r     float32\n",
       "dropoff_latitude_r     float32\n",
       "dropoff_longitude_r    float32\n",
       "h_distance             float32\n",
       "day_of_week            float32\n",
       "is_weekend               int32\n",
       "dtype: object"
      ]
     },
     "execution_count": 17,
     "metadata": {},
     "output_type": "execute_result"
    }
   ],
   "source": [
    "taxi_df.dtypes"
   ]
  },
  {
   "cell_type": "code",
   "execution_count": 18,
   "metadata": {},
   "outputs": [
    {
     "data": {
      "text/html": [
       "<div>\n",
       "<style scoped>\n",
       "    .dataframe tbody tr th:only-of-type {\n",
       "        vertical-align: middle;\n",
       "    }\n",
       "\n",
       "    .dataframe tbody tr th {\n",
       "        vertical-align: top;\n",
       "    }\n",
       "\n",
       "    .dataframe thead th {\n",
       "        text-align: right;\n",
       "    }\n",
       "</style>\n",
       "<table border=\"1\" class=\"dataframe\">\n",
       "  <thead>\n",
       "    <tr style=\"text-align: right;\">\n",
       "      <th></th>\n",
       "      <th>passenger_count</th>\n",
       "      <th>trip_distance</th>\n",
       "      <th>pickup_longitude</th>\n",
       "      <th>pickup_latitude</th>\n",
       "      <th>rate_code</th>\n",
       "      <th>dropoff_longitude</th>\n",
       "      <th>dropoff_latitude</th>\n",
       "      <th>fare_amount</th>\n",
       "      <th>hour</th>\n",
       "      <th>year</th>\n",
       "      <th>month</th>\n",
       "      <th>day</th>\n",
       "      <th>diff</th>\n",
       "      <th>pickup_latitude_r</th>\n",
       "      <th>pickup_longitude_r</th>\n",
       "      <th>dropoff_latitude_r</th>\n",
       "      <th>dropoff_longitude_r</th>\n",
       "      <th>h_distance</th>\n",
       "      <th>day_of_week</th>\n",
       "      <th>is_weekend</th>\n",
       "    </tr>\n",
       "  </thead>\n",
       "  <tbody>\n",
       "    <tr>\n",
       "      <th>0</th>\n",
       "      <td>1</td>\n",
       "      <td>1.59</td>\n",
       "      <td>-73.993896</td>\n",
       "      <td>40.750111</td>\n",
       "      <td>1</td>\n",
       "      <td>-73.974785</td>\n",
       "      <td>40.750618</td>\n",
       "      <td>12.0</td>\n",
       "      <td>19</td>\n",
       "      <td>2015</td>\n",
       "      <td>1</td>\n",
       "      <td>15</td>\n",
       "      <td>1083</td>\n",
       "      <td>40.750000</td>\n",
       "      <td>-74.000000</td>\n",
       "      <td>40.750000</td>\n",
       "      <td>-73.979996</td>\n",
       "      <td>1.610893</td>\n",
       "      <td>4.0</td>\n",
       "      <td>0</td>\n",
       "    </tr>\n",
       "    <tr>\n",
       "      <th>1</th>\n",
       "      <td>1</td>\n",
       "      <td>3.30</td>\n",
       "      <td>-74.001648</td>\n",
       "      <td>40.724243</td>\n",
       "      <td>1</td>\n",
       "      <td>-73.994415</td>\n",
       "      <td>40.759109</td>\n",
       "      <td>14.5</td>\n",
       "      <td>20</td>\n",
       "      <td>2015</td>\n",
       "      <td>1</td>\n",
       "      <td>10</td>\n",
       "      <td>1190</td>\n",
       "      <td>40.719997</td>\n",
       "      <td>-74.010002</td>\n",
       "      <td>40.750000</td>\n",
       "      <td>-74.000000</td>\n",
       "      <td>3.924552</td>\n",
       "      <td>6.0</td>\n",
       "      <td>0</td>\n",
       "    </tr>\n",
       "    <tr>\n",
       "      <th>2</th>\n",
       "      <td>1</td>\n",
       "      <td>1.80</td>\n",
       "      <td>-73.963341</td>\n",
       "      <td>40.802788</td>\n",
       "      <td>1</td>\n",
       "      <td>-73.951820</td>\n",
       "      <td>40.824413</td>\n",
       "      <td>9.5</td>\n",
       "      <td>20</td>\n",
       "      <td>2015</td>\n",
       "      <td>1</td>\n",
       "      <td>10</td>\n",
       "      <td>603</td>\n",
       "      <td>40.799999</td>\n",
       "      <td>-73.970001</td>\n",
       "      <td>40.820000</td>\n",
       "      <td>-73.959999</td>\n",
       "      <td>2.592739</td>\n",
       "      <td>6.0</td>\n",
       "      <td>0</td>\n",
       "    </tr>\n",
       "    <tr>\n",
       "      <th>3</th>\n",
       "      <td>1</td>\n",
       "      <td>0.50</td>\n",
       "      <td>-74.009087</td>\n",
       "      <td>40.713818</td>\n",
       "      <td>1</td>\n",
       "      <td>-74.004326</td>\n",
       "      <td>40.719986</td>\n",
       "      <td>3.5</td>\n",
       "      <td>20</td>\n",
       "      <td>2015</td>\n",
       "      <td>1</td>\n",
       "      <td>10</td>\n",
       "      <td>112</td>\n",
       "      <td>40.709999</td>\n",
       "      <td>-74.010002</td>\n",
       "      <td>40.709999</td>\n",
       "      <td>-74.010002</td>\n",
       "      <td>0.794628</td>\n",
       "      <td>6.0</td>\n",
       "      <td>0</td>\n",
       "    </tr>\n",
       "    <tr>\n",
       "      <th>4</th>\n",
       "      <td>1</td>\n",
       "      <td>3.00</td>\n",
       "      <td>-73.971176</td>\n",
       "      <td>40.762428</td>\n",
       "      <td>1</td>\n",
       "      <td>-74.004181</td>\n",
       "      <td>40.742653</td>\n",
       "      <td>15.0</td>\n",
       "      <td>20</td>\n",
       "      <td>2015</td>\n",
       "      <td>1</td>\n",
       "      <td>10</td>\n",
       "      <td>1159</td>\n",
       "      <td>40.759998</td>\n",
       "      <td>-73.979996</td>\n",
       "      <td>40.739998</td>\n",
       "      <td>-74.010002</td>\n",
       "      <td>3.544626</td>\n",
       "      <td>6.0</td>\n",
       "      <td>0</td>\n",
       "    </tr>\n",
       "  </tbody>\n",
       "</table>\n",
       "</div>"
      ],
      "text/plain": [
       "   passenger_count  trip_distance  pickup_longitude  pickup_latitude  \\\n",
       "0                1           1.59        -73.993896        40.750111   \n",
       "1                1           3.30        -74.001648        40.724243   \n",
       "2                1           1.80        -73.963341        40.802788   \n",
       "3                1           0.50        -74.009087        40.713818   \n",
       "4                1           3.00        -73.971176        40.762428   \n",
       "\n",
       "   rate_code  dropoff_longitude  dropoff_latitude  fare_amount  hour  year  \\\n",
       "0          1         -73.974785         40.750618         12.0    19  2015   \n",
       "1          1         -73.994415         40.759109         14.5    20  2015   \n",
       "2          1         -73.951820         40.824413          9.5    20  2015   \n",
       "3          1         -74.004326         40.719986          3.5    20  2015   \n",
       "4          1         -74.004181         40.742653         15.0    20  2015   \n",
       "\n",
       "   month  day  diff  pickup_latitude_r  pickup_longitude_r  \\\n",
       "0      1   15  1083          40.750000          -74.000000   \n",
       "1      1   10  1190          40.719997          -74.010002   \n",
       "2      1   10   603          40.799999          -73.970001   \n",
       "3      1   10   112          40.709999          -74.010002   \n",
       "4      1   10  1159          40.759998          -73.979996   \n",
       "\n",
       "   dropoff_latitude_r  dropoff_longitude_r  h_distance  day_of_week  \\\n",
       "0           40.750000           -73.979996    1.610893          4.0   \n",
       "1           40.750000           -74.000000    3.924552          6.0   \n",
       "2           40.820000           -73.959999    2.592739          6.0   \n",
       "3           40.709999           -74.010002    0.794628          6.0   \n",
       "4           40.739998           -74.010002    3.544626          6.0   \n",
       "\n",
       "   is_weekend  \n",
       "0           0  \n",
       "1           0  \n",
       "2           0  \n",
       "3           0  \n",
       "4           0  "
      ]
     },
     "execution_count": 18,
     "metadata": {},
     "output_type": "execute_result"
    }
   ],
   "source": [
    "# inspect the result\n",
    "taxi_df.head()"
   ]
  },
  {
   "cell_type": "markdown",
   "metadata": {},
   "source": [
    "## Some EDA"
   ]
  },
  {
   "cell_type": "code",
   "execution_count": 19,
   "metadata": {},
   "outputs": [
    {
     "data": {
      "text/plain": [
       "1     40239687\n",
       "2       738464\n",
       "3        59001\n",
       "5        54558\n",
       "4        15319\n",
       "99         481\n",
       "6          140\n",
       "Name: rate_code, dtype: int64"
      ]
     },
     "execution_count": 19,
     "metadata": {},
     "output_type": "execute_result"
    }
   ],
   "source": [
    "'''RateCodeID The final rate code in effect at the end of the trip.\n",
    "1= Standard rate\n",
    "2=JFK\n",
    "3=Newark\n",
    "4=Nassau or Westchester\n",
    "5=Negotiated fare\n",
    "6=Group ride\n",
    "99= Unknown\n",
    "'''\n",
    "\n",
    "taxi_df['rate_code'].value_counts().compute()"
   ]
  },
  {
   "cell_type": "code",
   "execution_count": null,
   "metadata": {},
   "outputs": [],
   "source": [
    "taxi_df.groupby('rate_code').fare_amount.mean().compute()"
   ]
  },
  {
   "cell_type": "code",
   "execution_count": null,
   "metadata": {},
   "outputs": [],
   "source": [
    "taxi_df['trip_distance'].compute().max()"
   ]
  },
  {
   "cell_type": "code",
   "execution_count": null,
   "metadata": {},
   "outputs": [],
   "source": [
    "taxi_df[taxi_df['fare_amount'] < 1].compute()"
   ]
  },
  {
   "cell_type": "markdown",
   "metadata": {},
   "source": [
    "# Pick a Training Set\n",
    "\n",
    "Let's imagine you're making a trip to New York on the 25th and want to build a model to predict what fare prices will be like the last few days of the month based on the first part of the month. We'll use a query expression to identify the `day` of the month to use to divide the data into train and test sets.\n",
    "\n",
    "The wall-time below represents how long it takes your GPU cluster to load data from the Google Cloud Storage bucket and the ETL portion of the workflow."
   ]
  },
  {
   "cell_type": "code",
   "execution_count": 20,
   "metadata": {},
   "outputs": [
    {
     "name": "stdout",
     "output_type": "stream",
     "text": [
      "CPU times: user 818 ms, sys: 80.5 ms, total: 899 ms\n",
      "Wall time: 13.6 s\n"
     ]
    }
   ],
   "source": [
    "%%time\n",
    "X_train = taxi_df.query('day < 25').persist()\n",
    "\n",
    "# create a Y_train ddf with just the target variable\n",
    "Y_train = X_train[['fare_amount']].persist()\n",
    "# drop the target variable from the training ddf\n",
    "X_train = X_train[X_train.columns.difference(['fare_amount'])]\n",
    "\n",
    "# this wont return until all data is in GPU memory\n",
    "done = wait([X_train, Y_train])"
   ]
  },
  {
   "cell_type": "code",
   "execution_count": 21,
   "metadata": {},
   "outputs": [
    {
     "name": "stdout",
     "output_type": "stream",
     "text": [
      "(Delayed('int-b6cab607-3fb4-4e12-8405-4b6b0fd3569c'), 19)\n",
      "33202155\n"
     ]
    }
   ],
   "source": [
    "print(X_train.shape)\n",
    "print(len(X_train))"
   ]
  },
  {
   "cell_type": "code",
   "execution_count": 207,
   "metadata": {},
   "outputs": [
    {
     "data": {
      "text/html": [
       "<div>\n",
       "<style scoped>\n",
       "    .dataframe tbody tr th:only-of-type {\n",
       "        vertical-align: middle;\n",
       "    }\n",
       "\n",
       "    .dataframe tbody tr th {\n",
       "        vertical-align: top;\n",
       "    }\n",
       "\n",
       "    .dataframe thead th {\n",
       "        text-align: right;\n",
       "    }\n",
       "</style>\n",
       "<table border=\"1\" class=\"dataframe\">\n",
       "  <thead>\n",
       "    <tr style=\"text-align: right;\">\n",
       "      <th></th>\n",
       "      <th>day</th>\n",
       "      <th>day_of_week</th>\n",
       "      <th>diff</th>\n",
       "      <th>dropoff_latitude</th>\n",
       "      <th>dropoff_latitude_r</th>\n",
       "      <th>dropoff_longitude</th>\n",
       "      <th>dropoff_longitude_r</th>\n",
       "      <th>h_distance</th>\n",
       "      <th>hour</th>\n",
       "      <th>is_weekend</th>\n",
       "      <th>month</th>\n",
       "      <th>passenger_count</th>\n",
       "      <th>pickup_latitude</th>\n",
       "      <th>pickup_latitude_r</th>\n",
       "      <th>pickup_longitude</th>\n",
       "      <th>pickup_longitude_r</th>\n",
       "      <th>rate_code</th>\n",
       "      <th>trip_distance</th>\n",
       "      <th>year</th>\n",
       "    </tr>\n",
       "  </thead>\n",
       "  <tbody>\n",
       "    <tr>\n",
       "      <th>0</th>\n",
       "      <td>15</td>\n",
       "      <td>4.0</td>\n",
       "      <td>1083</td>\n",
       "      <td>40.750618</td>\n",
       "      <td>40.750000</td>\n",
       "      <td>-73.974785</td>\n",
       "      <td>-73.979996</td>\n",
       "      <td>1.610893</td>\n",
       "      <td>19</td>\n",
       "      <td>0</td>\n",
       "      <td>1</td>\n",
       "      <td>1</td>\n",
       "      <td>40.750111</td>\n",
       "      <td>40.750000</td>\n",
       "      <td>-73.993896</td>\n",
       "      <td>-74.000000</td>\n",
       "      <td>1</td>\n",
       "      <td>1.59</td>\n",
       "      <td>2015</td>\n",
       "    </tr>\n",
       "    <tr>\n",
       "      <th>1</th>\n",
       "      <td>10</td>\n",
       "      <td>6.0</td>\n",
       "      <td>1190</td>\n",
       "      <td>40.759109</td>\n",
       "      <td>40.750000</td>\n",
       "      <td>-73.994415</td>\n",
       "      <td>-74.000000</td>\n",
       "      <td>3.924552</td>\n",
       "      <td>20</td>\n",
       "      <td>0</td>\n",
       "      <td>1</td>\n",
       "      <td>1</td>\n",
       "      <td>40.724243</td>\n",
       "      <td>40.719997</td>\n",
       "      <td>-74.001648</td>\n",
       "      <td>-74.010002</td>\n",
       "      <td>1</td>\n",
       "      <td>3.30</td>\n",
       "      <td>2015</td>\n",
       "    </tr>\n",
       "    <tr>\n",
       "      <th>2</th>\n",
       "      <td>10</td>\n",
       "      <td>6.0</td>\n",
       "      <td>603</td>\n",
       "      <td>40.824413</td>\n",
       "      <td>40.820000</td>\n",
       "      <td>-73.951820</td>\n",
       "      <td>-73.959999</td>\n",
       "      <td>2.592739</td>\n",
       "      <td>20</td>\n",
       "      <td>0</td>\n",
       "      <td>1</td>\n",
       "      <td>1</td>\n",
       "      <td>40.802788</td>\n",
       "      <td>40.799999</td>\n",
       "      <td>-73.963341</td>\n",
       "      <td>-73.970001</td>\n",
       "      <td>1</td>\n",
       "      <td>1.80</td>\n",
       "      <td>2015</td>\n",
       "    </tr>\n",
       "    <tr>\n",
       "      <th>3</th>\n",
       "      <td>10</td>\n",
       "      <td>6.0</td>\n",
       "      <td>112</td>\n",
       "      <td>40.719986</td>\n",
       "      <td>40.709999</td>\n",
       "      <td>-74.004326</td>\n",
       "      <td>-74.010002</td>\n",
       "      <td>0.794628</td>\n",
       "      <td>20</td>\n",
       "      <td>0</td>\n",
       "      <td>1</td>\n",
       "      <td>1</td>\n",
       "      <td>40.713818</td>\n",
       "      <td>40.709999</td>\n",
       "      <td>-74.009087</td>\n",
       "      <td>-74.010002</td>\n",
       "      <td>1</td>\n",
       "      <td>0.50</td>\n",
       "      <td>2015</td>\n",
       "    </tr>\n",
       "    <tr>\n",
       "      <th>4</th>\n",
       "      <td>10</td>\n",
       "      <td>6.0</td>\n",
       "      <td>1159</td>\n",
       "      <td>40.742653</td>\n",
       "      <td>40.739998</td>\n",
       "      <td>-74.004181</td>\n",
       "      <td>-74.010002</td>\n",
       "      <td>3.544626</td>\n",
       "      <td>20</td>\n",
       "      <td>0</td>\n",
       "      <td>1</td>\n",
       "      <td>1</td>\n",
       "      <td>40.762428</td>\n",
       "      <td>40.759998</td>\n",
       "      <td>-73.971176</td>\n",
       "      <td>-73.979996</td>\n",
       "      <td>1</td>\n",
       "      <td>3.00</td>\n",
       "      <td>2015</td>\n",
       "    </tr>\n",
       "  </tbody>\n",
       "</table>\n",
       "</div>"
      ],
      "text/plain": [
       "   day  day_of_week  diff  dropoff_latitude  dropoff_latitude_r  \\\n",
       "0   15          4.0  1083         40.750618           40.750000   \n",
       "1   10          6.0  1190         40.759109           40.750000   \n",
       "2   10          6.0   603         40.824413           40.820000   \n",
       "3   10          6.0   112         40.719986           40.709999   \n",
       "4   10          6.0  1159         40.742653           40.739998   \n",
       "\n",
       "   dropoff_longitude  dropoff_longitude_r  h_distance  hour  is_weekend  \\\n",
       "0         -73.974785           -73.979996    1.610893    19           0   \n",
       "1         -73.994415           -74.000000    3.924552    20           0   \n",
       "2         -73.951820           -73.959999    2.592739    20           0   \n",
       "3         -74.004326           -74.010002    0.794628    20           0   \n",
       "4         -74.004181           -74.010002    3.544626    20           0   \n",
       "\n",
       "   month  passenger_count  pickup_latitude  pickup_latitude_r  \\\n",
       "0      1                1        40.750111          40.750000   \n",
       "1      1                1        40.724243          40.719997   \n",
       "2      1                1        40.802788          40.799999   \n",
       "3      1                1        40.713818          40.709999   \n",
       "4      1                1        40.762428          40.759998   \n",
       "\n",
       "   pickup_longitude  pickup_longitude_r  rate_code  trip_distance  year  \n",
       "0        -73.993896          -74.000000          1           1.59  2015  \n",
       "1        -74.001648          -74.010002          1           3.30  2015  \n",
       "2        -73.963341          -73.970001          1           1.80  2015  \n",
       "3        -74.009087          -74.010002          1           0.50  2015  \n",
       "4        -73.971176          -73.979996          1           3.00  2015  "
      ]
     },
     "execution_count": 207,
     "metadata": {},
     "output_type": "execute_result"
    }
   ],
   "source": [
    "X_train.head()"
   ]
  },
  {
   "cell_type": "markdown",
   "metadata": {},
   "source": [
    "Save training data to csv file to show how large actually training data after feature engineering is. Here all yellow taxi data after feature enigneering show 42GB. Original dataset size is 58GB. "
   ]
  },
  {
   "cell_type": "markdown",
   "metadata": {},
   "source": [
    "# Train the XGBoost Regression Model\n",
    "\n",
    "The wall time output below indicates how long it took your GPU cluster to train an XGBoost model over the training set."
   ]
  },
  {
   "cell_type": "code",
   "execution_count": 22,
   "metadata": {},
   "outputs": [],
   "source": [
    "dtrain = xgb.dask.DaskDMatrix(client, X_train, Y_train)"
   ]
  },
  {
   "cell_type": "code",
   "execution_count": 55,
   "metadata": {},
   "outputs": [
    {
     "name": "stdout",
     "output_type": "stream",
     "text": [
      "CPU times: user 577 ms, sys: 128 ms, total: 705 ms\n",
      "Wall time: 16.3 s\n"
     ]
    }
   ],
   "source": [
    "%%time\n",
    "\n",
    "trained_model = xgb.dask.train(client,\n",
    "                        {\n",
    "                         'learning_rate': 0.3,\n",
    "                          'max_depth': 8,\n",
    "                          'objective': 'reg:squarederror',\n",
    "                          'subsample': 0.6,\n",
    "                          'gamma': 1,\n",
    "                          'silent': True,\n",
    "                          'verbose_eval': True,\n",
    "                          'tree_method':'gpu_hist',\n",
    "                          'n_gpus': 1\n",
    "                        },\n",
    "                        dtrain,\n",
    "                        num_boost_round=100, evals=[(dtrain, 'train')])\n",
    "\n",
    "#prediction = xgb.dask.predict(client, trained_model['booster'], dtrain)"
   ]
  },
  {
   "cell_type": "code",
   "execution_count": 56,
   "metadata": {},
   "outputs": [
    {
     "data": {
      "image/png": "[encoded data removed]",
      "text/plain": [
       "<Figure size 432x288 with 1 Axes>"
      ]
     },
     "metadata": {
      "needs_background": "light"
     },
     "output_type": "display_data"
    }
   ],
   "source": [
    "%matplotlib inline\n",
    "import matplotlib.pyplot as plt\n",
    "\n",
    "ax = xgb.plot_importance(trained_model['booster'], height=0.8, max_num_features=10, importance_type=\"gain\")\n",
    "ax.grid(False, axis=\"y\")\n",
    "ax.set_title('Estimated feature importance')\n",
    "ax.set_xlabel('importance')\n",
    "plt.show()"
   ]
  },
  {
   "cell_type": "markdown",
   "metadata": {},
   "source": [
    "# How Good is Our Model?\n",
    "\n",
    "Now that we have a trained model, we need to test it with the 25% of records we held out.\n",
    "\n",
    "Based on the filtering conditions applied to this dataset, many of the DataFrame partitions will wind up having 0 rows.\n",
    "\n",
    "This is a problem for XGBoost which doesn't know what to do with 0 length arrays. We'll repartition the data. "
   ]
  },
  {
   "cell_type": "code",
   "execution_count": 24,
   "metadata": {},
   "outputs": [
    {
     "data": {
      "text/html": [
       "<div>\n",
       "<style scoped>\n",
       "    .dataframe tbody tr th:only-of-type {\n",
       "        vertical-align: middle;\n",
       "    }\n",
       "\n",
       "    .dataframe tbody tr th {\n",
       "        vertical-align: top;\n",
       "    }\n",
       "\n",
       "    .dataframe thead th {\n",
       "        text-align: right;\n",
       "    }\n",
       "</style>\n",
       "<table border=\"1\" class=\"dataframe\">\n",
       "  <thead>\n",
       "    <tr style=\"text-align: right;\">\n",
       "      <th></th>\n",
       "      <th>day</th>\n",
       "      <th>day_of_week</th>\n",
       "      <th>diff</th>\n",
       "      <th>dropoff_latitude</th>\n",
       "      <th>dropoff_latitude_r</th>\n",
       "      <th>dropoff_longitude</th>\n",
       "      <th>dropoff_longitude_r</th>\n",
       "      <th>h_distance</th>\n",
       "      <th>hour</th>\n",
       "      <th>is_weekend</th>\n",
       "      <th>month</th>\n",
       "      <th>passenger_count</th>\n",
       "      <th>pickup_latitude</th>\n",
       "      <th>pickup_latitude_r</th>\n",
       "      <th>pickup_longitude</th>\n",
       "      <th>pickup_longitude_r</th>\n",
       "      <th>rate_code</th>\n",
       "      <th>trip_distance</th>\n",
       "      <th>year</th>\n",
       "    </tr>\n",
       "  </thead>\n",
       "  <tbody>\n",
       "    <tr>\n",
       "      <th>0</th>\n",
       "      <td>15</td>\n",
       "      <td>4.0</td>\n",
       "      <td>1083000000000</td>\n",
       "      <td>40.750618</td>\n",
       "      <td>40.750000</td>\n",
       "      <td>-73.974785</td>\n",
       "      <td>-73.979996</td>\n",
       "      <td>1.610893</td>\n",
       "      <td>19</td>\n",
       "      <td>0</td>\n",
       "      <td>1</td>\n",
       "      <td>1</td>\n",
       "      <td>40.750111</td>\n",
       "      <td>40.750000</td>\n",
       "      <td>-73.993896</td>\n",
       "      <td>-74.000000</td>\n",
       "      <td>1</td>\n",
       "      <td>1.59</td>\n",
       "      <td>2015</td>\n",
       "    </tr>\n",
       "    <tr>\n",
       "      <th>1</th>\n",
       "      <td>10</td>\n",
       "      <td>6.0</td>\n",
       "      <td>1190000000000</td>\n",
       "      <td>40.759109</td>\n",
       "      <td>40.750000</td>\n",
       "      <td>-73.994415</td>\n",
       "      <td>-74.000000</td>\n",
       "      <td>3.924552</td>\n",
       "      <td>20</td>\n",
       "      <td>0</td>\n",
       "      <td>1</td>\n",
       "      <td>1</td>\n",
       "      <td>40.724243</td>\n",
       "      <td>40.719997</td>\n",
       "      <td>-74.001648</td>\n",
       "      <td>-74.010002</td>\n",
       "      <td>1</td>\n",
       "      <td>3.30</td>\n",
       "      <td>2015</td>\n",
       "    </tr>\n",
       "    <tr>\n",
       "      <th>2</th>\n",
       "      <td>10</td>\n",
       "      <td>6.0</td>\n",
       "      <td>603000000000</td>\n",
       "      <td>40.824413</td>\n",
       "      <td>40.820000</td>\n",
       "      <td>-73.951820</td>\n",
       "      <td>-73.959999</td>\n",
       "      <td>2.592739</td>\n",
       "      <td>20</td>\n",
       "      <td>0</td>\n",
       "      <td>1</td>\n",
       "      <td>1</td>\n",
       "      <td>40.802788</td>\n",
       "      <td>40.799999</td>\n",
       "      <td>-73.963341</td>\n",
       "      <td>-73.970001</td>\n",
       "      <td>1</td>\n",
       "      <td>1.80</td>\n",
       "      <td>2015</td>\n",
       "    </tr>\n",
       "    <tr>\n",
       "      <th>3</th>\n",
       "      <td>10</td>\n",
       "      <td>6.0</td>\n",
       "      <td>112000000000</td>\n",
       "      <td>40.719986</td>\n",
       "      <td>40.709999</td>\n",
       "      <td>-74.004326</td>\n",
       "      <td>-74.010002</td>\n",
       "      <td>0.794628</td>\n",
       "      <td>20</td>\n",
       "      <td>0</td>\n",
       "      <td>1</td>\n",
       "      <td>1</td>\n",
       "      <td>40.713818</td>\n",
       "      <td>40.709999</td>\n",
       "      <td>-74.009087</td>\n",
       "      <td>-74.010002</td>\n",
       "      <td>1</td>\n",
       "      <td>0.50</td>\n",
       "      <td>2015</td>\n",
       "    </tr>\n",
       "    <tr>\n",
       "      <th>4</th>\n",
       "      <td>10</td>\n",
       "      <td>6.0</td>\n",
       "      <td>1159000000000</td>\n",
       "      <td>40.742653</td>\n",
       "      <td>40.739998</td>\n",
       "      <td>-74.004181</td>\n",
       "      <td>-74.010002</td>\n",
       "      <td>3.544626</td>\n",
       "      <td>20</td>\n",
       "      <td>0</td>\n",
       "      <td>1</td>\n",
       "      <td>1</td>\n",
       "      <td>40.762428</td>\n",
       "      <td>40.759998</td>\n",
       "      <td>-73.971176</td>\n",
       "      <td>-73.979996</td>\n",
       "      <td>1</td>\n",
       "      <td>3.00</td>\n",
       "      <td>2015</td>\n",
       "    </tr>\n",
       "  </tbody>\n",
       "</table>\n",
       "</div>"
      ],
      "text/plain": [
       "   day  day_of_week           diff  dropoff_latitude  dropoff_latitude_r  \\\n",
       "0   15          4.0  1083000000000         40.750618           40.750000   \n",
       "1   10          6.0  1190000000000         40.759109           40.750000   \n",
       "2   10          6.0   603000000000         40.824413           40.820000   \n",
       "3   10          6.0   112000000000         40.719986           40.709999   \n",
       "4   10          6.0  1159000000000         40.742653           40.739998   \n",
       "\n",
       "   dropoff_longitude  dropoff_longitude_r  h_distance  hour  is_weekend  \\\n",
       "0         -73.974785           -73.979996    1.610893    19           0   \n",
       "1         -73.994415           -74.000000    3.924552    20           0   \n",
       "2         -73.951820           -73.959999    2.592739    20           0   \n",
       "3         -74.004326           -74.010002    0.794628    20           0   \n",
       "4         -74.004181           -74.010002    3.544626    20           0   \n",
       "\n",
       "   month  passenger_count  pickup_latitude  pickup_latitude_r  \\\n",
       "0      1                1        40.750111          40.750000   \n",
       "1      1                1        40.724243          40.719997   \n",
       "2      1                1        40.802788          40.799999   \n",
       "3      1                1        40.713818          40.709999   \n",
       "4      1                1        40.762428          40.759998   \n",
       "\n",
       "   pickup_longitude  pickup_longitude_r  rate_code  trip_distance  year  \n",
       "0        -73.993896          -74.000000          1           1.59  2015  \n",
       "1        -74.001648          -74.010002          1           3.30  2015  \n",
       "2        -73.963341          -73.970001          1           1.80  2015  \n",
       "3        -74.009087          -74.010002          1           0.50  2015  \n",
       "4        -73.971176          -73.979996          1           3.00  2015  "
      ]
     },
     "execution_count": 24,
     "metadata": {},
     "output_type": "execute_result"
    }
   ],
   "source": [
    "X_train.head()"
   ]
  },
  {
   "cell_type": "code",
   "execution_count": 25,
   "metadata": {},
   "outputs": [],
   "source": [
    "def drop_empty_partitions(df):\n",
    "    lengths = df.map_partitions(len).compute()\n",
    "    nonempty = [length > 0 for length in lengths]\n",
    "    return df.partitions[nonempty]"
   ]
  },
  {
   "cell_type": "code",
   "execution_count": 26,
   "metadata": {},
   "outputs": [
    {
     "data": {
      "text/plain": [
       "7905495"
      ]
     },
     "execution_count": 26,
     "metadata": {},
     "output_type": "execute_result"
    }
   ],
   "source": [
    "X_test = taxi_df.query('day >= 25').persist()\n",
    "X_test = drop_empty_partitions(X_test)\n",
    "\n",
    "# Create Y_test with just the fare amount\n",
    "Y_test = X_test[['fare_amount']]\n",
    "\n",
    "# Drop the fare amount from X_test\n",
    "X_test = X_test[X_test.columns.difference(['fare_amount'])]\n",
    "\n",
    "# display test set size\n",
    "len(X_test)"
   ]
  },
  {
   "cell_type": "code",
   "execution_count": 57,
   "metadata": {},
   "outputs": [],
   "source": [
    "dtest = xgb.dask.DaskDMatrix(client, X_test, Y_test)"
   ]
  },
  {
   "cell_type": "markdown",
   "metadata": {},
   "source": [
    "The following cell yields an error due to .repartition()"
   ]
  },
  {
   "cell_type": "code",
   "execution_count": null,
   "metadata": {},
   "outputs": [],
   "source": [
    "# X_test = taxi_df.query('day >= 25').persist()\n",
    "# # X_test = drop_empty_partitions(X_test)\n",
    "\n",
    "# # Create Y_test with just the fare amount\n",
    "# # Y_test = X_test[['fare_amount']]\n",
    "# Y_test = X_test[['fare_amount']].repartition(npartitions=4)\n",
    "\n",
    "# # Drop the fare amount from X_test\n",
    "# # X_test = X_test[X_test.columns.difference(['fare_amount'])]\n",
    "# X_test = X_test[X_test.columns.difference(['fare_amount'])].repartition(npartitions=4)\n",
    "\n",
    "# # display test set size\n",
    "# len(X_test)"
   ]
  },
  {
   "cell_type": "code",
   "execution_count": 27,
   "metadata": {},
   "outputs": [
    {
     "data": {
      "text/html": [
       "<div>\n",
       "<style scoped>\n",
       "    .dataframe tbody tr th:only-of-type {\n",
       "        vertical-align: middle;\n",
       "    }\n",
       "\n",
       "    .dataframe tbody tr th {\n",
       "        vertical-align: top;\n",
       "    }\n",
       "\n",
       "    .dataframe thead th {\n",
       "        text-align: right;\n",
       "    }\n",
       "</style>\n",
       "<table border=\"1\" class=\"dataframe\">\n",
       "  <thead>\n",
       "    <tr style=\"text-align: right;\">\n",
       "      <th></th>\n",
       "      <th>day</th>\n",
       "      <th>day_of_week</th>\n",
       "      <th>diff</th>\n",
       "      <th>dropoff_latitude</th>\n",
       "      <th>dropoff_latitude_r</th>\n",
       "      <th>dropoff_longitude</th>\n",
       "      <th>dropoff_longitude_r</th>\n",
       "      <th>h_distance</th>\n",
       "      <th>hour</th>\n",
       "      <th>is_weekend</th>\n",
       "      <th>month</th>\n",
       "      <th>passenger_count</th>\n",
       "      <th>pickup_latitude</th>\n",
       "      <th>pickup_latitude_r</th>\n",
       "      <th>pickup_longitude</th>\n",
       "      <th>pickup_longitude_r</th>\n",
       "      <th>rate_code</th>\n",
       "      <th>trip_distance</th>\n",
       "      <th>year</th>\n",
       "    </tr>\n",
       "  </thead>\n",
       "  <tbody>\n",
       "    <tr>\n",
       "      <th>38</th>\n",
       "      <td>25</td>\n",
       "      <td>0.0</td>\n",
       "      <td>14</td>\n",
       "      <td>40.725559</td>\n",
       "      <td>40.719997</td>\n",
       "      <td>-73.996941</td>\n",
       "      <td>-74.000000</td>\n",
       "      <td>2.413343</td>\n",
       "      <td>0</td>\n",
       "      <td>1</td>\n",
       "      <td>1</td>\n",
       "      <td>1</td>\n",
       "      <td>40.727741</td>\n",
       "      <td>40.719997</td>\n",
       "      <td>-73.994812</td>\n",
       "      <td>-74.000000</td>\n",
       "      <td>1</td>\n",
       "      <td>0.02</td>\n",
       "      <td>2015</td>\n",
       "    </tr>\n",
       "    <tr>\n",
       "      <th>39</th>\n",
       "      <td>25</td>\n",
       "      <td>0.0</td>\n",
       "      <td>966</td>\n",
       "      <td>40.737865</td>\n",
       "      <td>40.730000</td>\n",
       "      <td>-74.006546</td>\n",
       "      <td>-74.010002</td>\n",
       "      <td>4.616995</td>\n",
       "      <td>0</td>\n",
       "      <td>1</td>\n",
       "      <td>1</td>\n",
       "      <td>1</td>\n",
       "      <td>40.726765</td>\n",
       "      <td>40.719997</td>\n",
       "      <td>-73.985939</td>\n",
       "      <td>-73.989998</td>\n",
       "      <td>1</td>\n",
       "      <td>1.73</td>\n",
       "      <td>2015</td>\n",
       "    </tr>\n",
       "    <tr>\n",
       "      <th>40</th>\n",
       "      <td>25</td>\n",
       "      <td>0.0</td>\n",
       "      <td>758</td>\n",
       "      <td>40.739056</td>\n",
       "      <td>40.730000</td>\n",
       "      <td>-74.008087</td>\n",
       "      <td>-74.010002</td>\n",
       "      <td>2.294490</td>\n",
       "      <td>0</td>\n",
       "      <td>1</td>\n",
       "      <td>1</td>\n",
       "      <td>1</td>\n",
       "      <td>40.743275</td>\n",
       "      <td>40.739998</td>\n",
       "      <td>-73.979988</td>\n",
       "      <td>-73.979996</td>\n",
       "      <td>1</td>\n",
       "      <td>2.25</td>\n",
       "      <td>2015</td>\n",
       "    </tr>\n",
       "    <tr>\n",
       "      <th>41</th>\n",
       "      <td>25</td>\n",
       "      <td>0.0</td>\n",
       "      <td>765</td>\n",
       "      <td>40.762470</td>\n",
       "      <td>40.759998</td>\n",
       "      <td>-73.978729</td>\n",
       "      <td>-73.979996</td>\n",
       "      <td>4.059519</td>\n",
       "      <td>0</td>\n",
       "      <td>1</td>\n",
       "      <td>1</td>\n",
       "      <td>1</td>\n",
       "      <td>40.721680</td>\n",
       "      <td>40.719997</td>\n",
       "      <td>-73.988968</td>\n",
       "      <td>-73.989998</td>\n",
       "      <td>1</td>\n",
       "      <td>3.53</td>\n",
       "      <td>2015</td>\n",
       "    </tr>\n",
       "    <tr>\n",
       "      <th>42</th>\n",
       "      <td>25</td>\n",
       "      <td>0.0</td>\n",
       "      <td>620</td>\n",
       "      <td>40.801991</td>\n",
       "      <td>40.799999</td>\n",
       "      <td>-73.957085</td>\n",
       "      <td>-73.959999</td>\n",
       "      <td>1.685555</td>\n",
       "      <td>0</td>\n",
       "      <td>1</td>\n",
       "      <td>1</td>\n",
       "      <td>1</td>\n",
       "      <td>40.782360</td>\n",
       "      <td>40.779999</td>\n",
       "      <td>-73.948685</td>\n",
       "      <td>-73.949997</td>\n",
       "      <td>1</td>\n",
       "      <td>2.01</td>\n",
       "      <td>2015</td>\n",
       "    </tr>\n",
       "  </tbody>\n",
       "</table>\n",
       "</div>"
      ],
      "text/plain": [
       "    day  day_of_week  diff  dropoff_latitude  dropoff_latitude_r  \\\n",
       "38   25          0.0    14         40.725559           40.719997   \n",
       "39   25          0.0   966         40.737865           40.730000   \n",
       "40   25          0.0   758         40.739056           40.730000   \n",
       "41   25          0.0   765         40.762470           40.759998   \n",
       "42   25          0.0   620         40.801991           40.799999   \n",
       "\n",
       "    dropoff_longitude  dropoff_longitude_r  h_distance  hour  is_weekend  \\\n",
       "38         -73.996941           -74.000000    2.413343     0           1   \n",
       "39         -74.006546           -74.010002    4.616995     0           1   \n",
       "40         -74.008087           -74.010002    2.294490     0           1   \n",
       "41         -73.978729           -73.979996    4.059519     0           1   \n",
       "42         -73.957085           -73.959999    1.685555     0           1   \n",
       "\n",
       "    month  passenger_count  pickup_latitude  pickup_latitude_r  \\\n",
       "38      1                1        40.727741          40.719997   \n",
       "39      1                1        40.726765          40.719997   \n",
       "40      1                1        40.743275          40.739998   \n",
       "41      1                1        40.721680          40.719997   \n",
       "42      1                1        40.782360          40.779999   \n",
       "\n",
       "    pickup_longitude  pickup_longitude_r  rate_code  trip_distance  year  \n",
       "38        -73.994812          -74.000000          1           0.02  2015  \n",
       "39        -73.985939          -73.989998          1           1.73  2015  \n",
       "40        -73.979988          -73.979996          1           2.25  2015  \n",
       "41        -73.988968          -73.989998          1           3.53  2015  \n",
       "42        -73.948685          -73.949997          1           2.01  2015  "
      ]
     },
     "execution_count": 27,
     "metadata": {},
     "output_type": "execute_result"
    }
   ],
   "source": [
    "X_test.head()"
   ]
  },
  {
   "cell_type": "code",
   "execution_count": 58,
   "metadata": {},
   "outputs": [],
   "source": [
    "# generate predictions on the test set\n",
    "prediction = xgb.dask.predict(client, trained_model['booster'], dtest)"
   ]
  },
  {
   "cell_type": "code",
   "execution_count": 59,
   "metadata": {},
   "outputs": [
    {
     "data": {
      "text/plain": [
       "(dask.dataframe.core.Series, dask.array.core.Array)"
      ]
     },
     "execution_count": 59,
     "metadata": {},
     "output_type": "execute_result"
    }
   ],
   "source": [
    "type(Y_test['fare_amount']), type(prediction)"
   ]
  },
  {
   "cell_type": "code",
   "execution_count": 63,
   "metadata": {},
   "outputs": [],
   "source": [
    "true = Y_test['fare_amount'].compute()\n",
    "preds = prediction.compute()"
   ]
  },
  {
   "cell_type": "code",
   "execution_count": 64,
   "metadata": {},
   "outputs": [
    {
     "data": {
      "text/plain": [
       "14.03417775081966"
      ]
     },
     "execution_count": 64,
     "metadata": {},
     "output_type": "execute_result"
    }
   ],
   "source": [
    "squared_error=(preds - true.to_array())**2\n",
    "\n",
    "# compute the actual RMSE over the full test set\n",
    "math.sqrt(squared_error.mean())\n",
    "# inspect the results to make sure our calculation looks right"
   ]
  },
  {
   "cell_type": "markdown",
   "metadata": {},
   "source": [
    "## SAVE THE TRAINED MODEL"
   ]
  },
  {
   "cell_type": "code",
   "execution_count": 38,
   "metadata": {},
   "outputs": [
    {
     "name": "stdout",
     "output_type": "stream",
     "text": [
      "Training evaluation history: {'train': {'rmse': [10.847029, 7.667126, 5.461783, 3.94479, 2.921886, 2.251688, 1.829115, 1.576599, 1.429019, 1.347868, 1.298269, 1.272693, 1.25337, 1.241589, 1.235294, 1.228821, 1.225643, 1.222591, 1.220612, 1.21611, 1.214006, 1.212464, 1.21113, 1.207604, 1.206899, 1.206218, 1.205186, 1.203875, 1.202728, 1.200397, 1.198879, 1.196149, 1.195035, 1.193898, 1.190321, 1.185154, 1.184539, 1.182065, 1.180249, 1.178875, 1.178303, 1.176638, 1.175979, 1.174543, 1.173652, 1.172597, 1.171119, 1.168137, 1.166669, 1.166278, 1.165752, 1.164637, 1.163796, 1.154168, 1.151731, 1.150814, 1.14866, 1.147489, 1.146618, 1.146297, 1.14561, 1.144014, 1.14024, 1.137189, 1.13366, 1.133059, 1.131912, 1.130576, 1.130236, 1.129348, 1.127905, 1.127495, 1.123664, 1.122244, 1.118283, 1.118055, 1.116854, 1.115932, 1.11473, 1.1144, 1.113545, 1.112381, 1.111807, 1.111092, 1.108818, 1.103436, 1.100285, 1.099752, 1.099502, 1.098631, 1.097732, 1.096965, 1.096321, 1.096122, 1.095695, 1.093114, 1.092736, 1.091913, 1.091198, 1.090278]}}\n"
     ]
    }
   ],
   "source": [
    "# booster = trained_model['booster']  # booster is the trained model\n",
    "# history = trained_model['history']  # A dictionary containing evaluation results\n",
    "# # Save the model to file\n",
    "# booster.save_model('xgboost-model')\n",
    "# print('Training evaluation history:', history)"
   ]
  },
  {
   "cell_type": "markdown",
   "metadata": {},
   "source": [
    "## VISUALIZATIONS"
   ]
  },
  {
   "cell_type": "code",
   "execution_count": 43,
   "metadata": {},
   "outputs": [],
   "source": [
    "X_test_cudf= X_test.compute()"
   ]
  },
  {
   "cell_type": "code",
   "execution_count": 44,
   "metadata": {},
   "outputs": [],
   "source": [
    "X_test_cudf['fare_amount']= Y_test['fare_amount'].compute()\n",
    "#X_test_cudf['prediction']= prediction"
   ]
  },
  {
   "cell_type": "code",
   "execution_count": 45,
   "metadata": {},
   "outputs": [],
   "source": [
    "X_test_pd = X_test_cudf.to_pandas()"
   ]
  },
  {
   "cell_type": "code",
   "execution_count": 46,
   "metadata": {},
   "outputs": [
    {
     "data": {
      "text/plain": [
       "passenger_count\n",
       "1    12.442133\n",
       "2    12.996991\n",
       "3    12.603300\n",
       "4    12.643187\n",
       "5    12.653585\n",
       "Name: fare_amount, dtype: float32"
      ]
     },
     "execution_count": 46,
     "metadata": {},
     "output_type": "execute_result"
    }
   ],
   "source": [
    "X_test_pd.groupby('passenger_count').fare_amount.mean()"
   ]
  },
  {
   "cell_type": "code",
   "execution_count": 47,
   "metadata": {},
   "outputs": [
    {
     "data": {
      "text/plain": [
       "1    5815646\n",
       "2    1161410\n",
       "5     451666\n",
       "3     326975\n",
       "4     149798\n",
       "Name: passenger_count, dtype: int64"
      ]
     },
     "execution_count": 47,
     "metadata": {},
     "output_type": "execute_result"
    }
   ],
   "source": [
    "X_test_pd['passenger_count'].value_counts()"
   ]
  },
  {
   "cell_type": "code",
   "execution_count": 48,
   "metadata": {},
   "outputs": [
    {
     "data": {
      "text/plain": [
       "<matplotlib.axes._subplots.AxesSubplot at 0x7f596d822710>"
      ]
     },
     "execution_count": 48,
     "metadata": {},
     "output_type": "execute_result"
    },
    {
     "data": {
      "image/png": "[encoded data removed]",
      "text/plain": [
       "<Figure size 432x288 with 1 Axes>"
      ]
     },
     "metadata": {
      "needs_background": "light"
     },
     "output_type": "display_data"
    }
   ],
   "source": [
    "X_test_pd.groupby('passenger_count').size().plot.bar(color ='green')"
   ]
  },
  {
   "cell_type": "code",
   "execution_count": 49,
   "metadata": {},
   "outputs": [
    {
     "name": "stdout",
     "output_type": "stream",
     "text": [
      "0\n"
     ]
    },
    {
     "data": {
      "image/png": "[encoded data removed]",
      "text/plain": [
       "<Figure size 432x288 with 1 Axes>"
      ]
     },
     "metadata": {
      "needs_background": "light"
     },
     "output_type": "display_data"
    }
   ],
   "source": [
    "import matplotlib as mpl\n",
    "import matplotlib.pyplot as plt\n",
    "import numpy as np\n",
    "\n",
    "print(mpl.rcParams['agg.path.chunksize'])\n",
    "mpl.rcParams['agg.path.chunksize'] = 10000\n",
    "\n",
    "fig, ax = plt.subplots()\n",
    "ax.set_xlabel('trip_distance')     \n",
    "ax.set_ylabel('fare_amount') \n",
    "ax.scatter(X_test_pd['trip_distance'], X_test_pd['fare_amount'])\n",
    "plt.show()"
   ]
  },
  {
   "cell_type": "code",
   "execution_count": 51,
   "metadata": {},
   "outputs": [
    {
     "name": "stdout",
     "output_type": "stream",
     "text": [
      "10000\n"
     ]
    },
    {
     "data": {
      "image/png": "[encoded data removed]",
      "text/plain": [
       "<Figure size 432x288 with 1 Axes>"
      ]
     },
     "metadata": {
      "needs_background": "light"
     },
     "output_type": "display_data"
    }
   ],
   "source": [
    "print(mpl.rcParams['agg.path.chunksize'])\n",
    "mpl.rcParams['agg.path.chunksize'] = 10000\n",
    "\n",
    "fig, ax = plt.subplots()\n",
    "ax.set_xlabel('h_distance')     \n",
    "ax.set_ylabel('fare_amount')   \n",
    "ax.scatter(X_test_pd['h_distance'], X_test_pd['fare_amount'])\n",
    "plt.show()"
   ]
  },
  {
   "cell_type": "code",
   "execution_count": 52,
   "metadata": {},
   "outputs": [
    {
     "name": "stdout",
     "output_type": "stream",
     "text": [
      "10000\n"
     ]
    },
    {
     "data": {
      "image/png": "[encoded data removed]",
      "text/plain": [
       "<Figure size 432x288 with 1 Axes>"
      ]
     },
     "metadata": {
      "needs_background": "light"
     },
     "output_type": "display_data"
    }
   ],
   "source": [
    "print(mpl.rcParams['agg.path.chunksize'])\n",
    "mpl.rcParams['agg.path.chunksize'] = 10000\n",
    "\n",
    "fig, ax = plt.subplots()\n",
    "ax.set_xlabel('h_distance')     \n",
    "ax.set_ylabel('trip_distance')   \n",
    "ax.scatter(X_test_pd['h_distance'], X_test_pd['trip_distance'])\n",
    "plt.show()"
   ]
  },
  {
   "cell_type": "code",
   "execution_count": 54,
   "metadata": {},
   "outputs": [
    {
     "data": {
      "image/png": "[encoded data removed]",
      "text/plain": [
       "<Figure size 1080x360 with 1 Axes>"
      ]
     },
     "metadata": {
      "needs_background": "light"
     },
     "output_type": "display_data"
    }
   ],
   "source": [
    "ax = X_test_pd['trip_distance'].hist(bins=30, figsize=(15,5), color='red')\n",
    "ax.set_yscale('log')\n",
    "ax.set_xlabel(\"trip distance (miles)\")\n",
    "ax.set_ylabel(\"count\")\n",
    "plt.show()"
   ]
  },
  {
   "cell_type": "code",
   "execution_count": 116,
   "metadata": {},
   "outputs": [
    {
     "data": {
      "text/plain": [
       "array([[<matplotlib.axes._subplots.AxesSubplot object at 0x7f9b90136b90>,\n",
       "        <matplotlib.axes._subplots.AxesSubplot object at 0x7f9a95bcc510>],\n",
       "       [<matplotlib.axes._subplots.AxesSubplot object at 0x7f9a95c17350>,\n",
       "        <matplotlib.axes._subplots.AxesSubplot object at 0x7f9adb424050>],\n",
       "       [<matplotlib.axes._subplots.AxesSubplot object at 0x7f9ad1485ed0>,\n",
       "        <matplotlib.axes._subplots.AxesSubplot object at 0x7f9ad14b57d0>]],\n",
       "      dtype=object)"
      ]
     },
     "execution_count": 116,
     "metadata": {},
     "output_type": "execute_result"
    },
    {
     "data": {
      "image/png": "[encoded data removed]",
      "text/plain": [
       "<Figure size 432x288 with 6 Axes>"
      ]
     },
     "metadata": {
      "needs_background": "light"
     },
     "output_type": "display_data"
    }
   ],
   "source": [
    "X_test_pd['fare_amount'].hist(by=X_test_pd['passenger_count'])"
   ]
  },
  {
   "cell_type": "markdown",
   "metadata": {},
   "source": [
    "## VISUALS WITH CUXFILTER"
   ]
  },
  {
   "cell_type": "code",
   "execution_count": 71,
   "metadata": {},
   "outputs": [
    {
     "data": {
      "image/png": "[encoded data removed]",
      "text/html": [
       "<img style=\"margin: auto; border:1px solid\" src='data:image/png;base64,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'/>"
      ],
      "text/plain": [
       "<xarray.Image (pickup_latitude: 400, pickup_longitude: 400)>\n",
       "array([[4278190080, 4278190080, 4278190080, ..., 4278190080, 4278190080,\n",
       "        4278190080],\n",
       "       [4278190080, 4278190080, 4278190080, ..., 4278190080, 4278190080,\n",
       "        4278190080],\n",
       "       [4278190080, 4278190080, 4278190080, ..., 4278190080, 4278190080,\n",
       "        4278190080],\n",
       "       ...,\n",
       "       [4278190080, 4278190080, 4278190080, ..., 4278190080, 4278190080,\n",
       "        4278190080],\n",
       "       [4278190080, 4278190080, 4278190080, ..., 4278190080, 4278190080,\n",
       "        4278190080],\n",
       "       [4278190080, 4278190080, 4278190080, ..., 4278190080, 4278190080,\n",
       "        4278190080]], dtype=uint32)\n",
       "Coordinates:\n",
       "  * pickup_longitude  (pickup_longitude) float64 -75.0 -74.99 ... -73.09 -73.09\n",
       "  * pickup_latitude   (pickup_latitude) float64 40.12 40.12 ... 41.77 41.77"
      ]
     },
     "execution_count": 71,
     "metadata": {},
     "output_type": "execute_result"
    }
   ],
   "source": [
    "import datashader as ds\n",
    "import datashader.transfer_functions as tf\n",
    "from colorcet import fire\n",
    "\n",
    "# cvs = ds.Canvas(plot_width=500, plot_height=500, x_range=x_range, y_range=y_range)\n",
    "# agg = cvs.points(X_test_cudf, 'pickup_longitude', 'pickup_latitude', ds.mean('prediction'))\n",
    "# tf.set_background(tf.shade(agg, cmap=fire),\"black\")\n",
    "\n",
    "cvs = ds.Canvas(plot_width=400, plot_height=400)\n",
    "agg = cvs.points(X_test_cudf, 'pickup_longitude', 'pickup_latitude', ds.mean('fare_amount'))\n",
    "tf.set_background(tf.shade(agg, cmap=['lightblue', 'darkblue']),\"black\")"
   ]
  },
  {
   "cell_type": "code",
   "execution_count": 214,
   "metadata": {},
   "outputs": [
    {
     "data": {
      "text/plain": [
       "0.0    1198346\n",
       "1.0    1121176\n",
       "4.0    1082160\n",
       "2.0    1077222\n",
       "6.0    1064061\n",
       "3.0    1027081\n",
       "5.0     926086\n",
       "Name: day_of_week, dtype: int32"
      ]
     },
     "execution_count": 214,
     "metadata": {},
     "output_type": "execute_result"
    }
   ],
   "source": [
    "X_test_cudf['day_of_week'].value_counts()"
   ]
  },
  {
   "cell_type": "code",
   "execution_count": 68,
   "metadata": {},
   "outputs": [],
   "source": [
    "#update data_dir if you have downloaded datasets elsewhere\n",
    "import cuxfilter as cxf\n",
    "import datashader as ds, pandas as pd\n",
    "import datashader.transfer_functions as tf\n",
    "from cuxfilter import DataFrame, themes, layouts\n",
    "from cuxfilter.charts import bokeh, datashader, panel_widgets\n",
    "import datashader as ds\n",
    "import datashader.transfer_functions as tf\n",
    "\n",
    "\n",
    "cux_df = cxf.DataFrame.from_dataframe(X_test_cudf)\n",
    "\n",
    "cux_df.data['fare_amount'] = cux_df.data['fare_amount'].astype('float32')\n",
    "\n",
    "label_map = {0.0: 'Sat', 1.0: 'Sun',    2.0: 'Mon',    3.0: 'Tues',    4.0: 'Wed',   5.0: 'Thu',    6.0: 'Fri'}\n",
    "#red_blue_palette = [(49,130,189),(107,174,214), (123, 142, 216), (226,103,152), (255,0,104) , (50,50,50)]\n",
    "red_yellow_palette = [(236,155,0), (236,202,0), (236,0,0),(236,36,0), (236,83,0)]\n",
    "\n",
    "#declare charts\n",
    "chart1 = cxf.charts.datashader.scatter_geo(x='pickup_longitude', y='pickup_latitude', aggregate_col='fare_amount', aggregate_fn='mean', color_palette=fire)\n",
    "chart2 = cxf.charts.panel_widgets.multi_select('day_of_week')\n",
    "chart3 = cxf.charts.bokeh.bar('day_of_week', x_label_map=label_map)\n",
    "fare_vs_dist = cxf.charts.datashader.scatter(x='h_distance', y='fare_amount', x_range=(X_test_cudf['h_distance'].min(), X_test_cudf['h_distance'].max()), \n",
    "                                             y_range=(X_test_cudf['fare_amount'].min(), X_test_cudf['fare_amount'].max()))\n",
    "\n",
    "#heatmap = cxf.charts.datashader.heatmap(x='pickup_longitude', y='pickup_latitude', aggregate_col='prediction', aggregate_fn='mean', color_palette=fire)\n",
    "\n",
    "#declare dashboard\n",
    "\n",
    "d = cux_df.dashboard([chart1, chart2, chart3, fare_vs_dist], layout=cxf.layouts.feature_and_double_base,theme = cxf.themes.light, \n",
    "                     title='Taxi Dataset', data_size_widget=True)"
   ]
  },
  {
   "cell_type": "code",
   "execution_count": 197,
   "metadata": {},
   "outputs": [
    {
     "name": "stderr",
     "output_type": "stream",
     "text": [
      "WARNING:param.Column00190: Displaying Panel objects in the notebook requires the panel extension to be loaded. Ensure you run pn.extension() before displaying objects in the notebook.\n",
      "WARNING:Displaying Panel objects in the notebook requires the panel extension to be loaded. Ensure you run pn.extension() before displaying objects in the notebook.\n"
     ]
    },
    {
     "data": {
      "text/plain": [
       "#### cuxfilter DashBoard\n",
       "    \n",
       "    [title] Markdown(str)\n",
       "    [chart1] Column(sizing_mode='scale_both', width=1600)\n",
       "    [0] Bokeh(Figure)\n",
       "    [chart2] Column(sizing_mode='scale_both', width=800)\n",
       "    [0] Bokeh(Figure)\n",
       "    [1] RangeSlider(end=6.0, sizing_mode='scale_width', start=0.0, step=1, value=(0.0, 6.0), width=800)\n",
       "    [chart3] Column(sizing_mode='scale_both', width=800)\n",
       "    [0] Bokeh(Figure)\n",
       "    [widgets] Column\n",
       "    [0] Column(css_classes=['non-handle-temp'], sizing_mode='scale_both')\n",
       "        [0] FloatSlider(bar_color='#4292c6', end=7905694, name='Data Points selected', sizing_mode='scale_both', start=0, value=7905694, width=280)\n",
       "    [1] Column(sizing_mode='scale_both', width=400)\n",
       "        [0] MultiSelect(css_classes=['custom-dropdown'], height=200, name='day_of_week', options=[nan, 0.0, 1.0, ...], sizing_mode='scale_both', value=[''], width=280)"
      ]
     },
     "execution_count": 197,
     "metadata": {},
     "output_type": "execute_result"
    }
   ],
   "source": [
    "d"
   ]
  },
  {
   "cell_type": "code",
   "execution_count": null,
   "metadata": {},
   "outputs": [],
   "source": [
    "d.show(notebook_url='10.110.46.158:8888')"
   ]
  },
  {
   "cell_type": "code",
   "execution_count": 70,
   "metadata": {},
   "outputs": [],
   "source": [
    "d.stop()"
   ]
  }
 ],
 "metadata": {
  "kernelspec": {
   "display_name": "Python 3",
   "language": "python",
   "name": "python3"
  },
  "language_info": {
   "codemirror_mode": {
    "name": "ipython",
    "version": 3
   },
   "file_extension": ".py",
   "mimetype": "text/x-python",
   "name": "python",
   "nbconvert_exporter": "python",
   "pygments_lexer": "ipython3",
   "version": "3.7.6"
  },
  "toc": {
   "base_numbering": 1,
   "nav_menu": {},
   "number_sections": true,
   "sideBar": true,
   "skip_h1_title": false,
   "title_cell": "Table of Contents",
   "title_sidebar": "Contents",
   "toc_cell": false,
   "toc_position": {},
   "toc_section_display": true,
   "toc_window_display": false
  }
 },
 "nbformat": 4,
 "nbformat_minor": 4
}
